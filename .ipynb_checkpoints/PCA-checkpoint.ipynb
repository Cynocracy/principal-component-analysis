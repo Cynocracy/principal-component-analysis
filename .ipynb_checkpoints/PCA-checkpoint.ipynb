{
 "cells": [
  {
   "cell_type": "code",
   "execution_count": 1,
   "metadata": {
    "collapsed": false
   },
   "outputs": [],
   "source": [
    "%matplotlib inline\n",
    "from PIL import Image\n",
    "import numpy\n",
    "import os\n",
    "import re\n",
    "import random\n",
    "from resizeimage import resizeimage\n",
    "import matplotlib.pyplot as plt\n",
    "from scipy import sparse\n",
    "from sklearn.decomposition import PCA\n",
    "import copy\n",
    "import matplotlib.image as mpimg\n",
    "from sklearn.decomposition import RandomizedPCA"
   ]
  },
  {
   "cell_type": "code",
   "execution_count": 2,
   "metadata": {
    "collapsed": false
   },
   "outputs": [],
   "source": [
    "import collections\n",
    "# resize images\n",
    "def resizeImagesToDest(source, dest, prefix, height, noiseAlgo=None):    \n",
    "    for root, dirs, files in os.walk(source):\n",
    "        for name in files:\n",
    "            if re.match(r'^'+prefix+'.*gif$', name, re.I):\n",
    "                img = Image.open(os.path.join(source, name))\n",
    "                (origWidth, origHeight) = img.size\n",
    "                if (height == origHeight):\n",
    "                    resizedImg = img\n",
    "                else:\n",
    "                    resizedImg = resizeimage.resize_height(img, height)\n",
    "                \n",
    "                (width, height) = resizedImg.size\n",
    "                if noiseAlgo:\n",
    "                    noisyImg = noiseAlgo(numpy.asarray(resizedImg))\n",
    "                    Image.fromarray(numpy.uint8(noisyImg.reshape(height,width))).save(dest+name)\n",
    "                else:\n",
    "                    resizedImg.save(dest+name)\n",
    "\n",
    "def resizeImages(source, prefix):\n",
    "    resizeImagesToDest(source, 'bestyalefaces_resized/', prefix, 50)\n",
    "                \n",
    "# images into array: http://stackoverflow.com/questions/13550376/pil-image-to-array-numpy-array-to-array-python\n",
    "def readImagesIntoMatrix(path, prefix):\n",
    "    images = None\n",
    "    groups = collections.defaultdict(set)\n",
    "    grouptag = {}\n",
    "    i = 0\n",
    "    for root, dirs, files in os.walk(path):\n",
    "        for name in files:\n",
    "            if re.match(r'^'+prefix+'.*gif$', name, re.I):\n",
    "                img = Image.open(path + name)                \n",
    "                (width, height) = img.size\n",
    "                imgArr = numpy.asarray(img).reshape(height * width)\n",
    "                if images is not None:\n",
    "                    images = numpy.vstack([images, imgArr])\n",
    "                else:\n",
    "                    images = imgArr\n",
    "                group = re.match(r'.*yaleB([0-9]+)_.*', name, re.I).group(1)\n",
    "                groups[group].add(i)\n",
    "                grouptag[i] = group\n",
    "                i += 1\n",
    "    return images, groups, grouptag\n",
    "\n",
    "def saveImages(path, images, width, height):\n",
    "    for i in range(0, len(images)):\n",
    "        Image.fromarray(numpy.uint8(images[i]).reshape(height, width)).save(path+str(i)+'.gif')\n",
    "        \n",
    "def addGaussianNoise(image):\n",
    "    noisyImage = copy.deepcopy(image)\n",
    "    mu = noisyImage.mean()\n",
    "    std = noisyImage.std()\n",
    "    noise = 0.2 * numpy.random.normal(mu, std, noisyImage.shape)\n",
    "    for i in range(len(image)):\n",
    "        for j in range(len(image[0])):\n",
    "            val = image[i][j]\n",
    "            if val + noise[i][j] >= 255:\n",
    "                noisyImage[i][j] = 255\n",
    "            elif val + noise[i][j] <= 0:\n",
    "                noisyImage[i][j] = 0\n",
    "            else:\n",
    "                noisyImage[i][j] = val + noise[i][j] \n",
    "    \n",
    "    return noisyImage  \n",
    "    \n",
    "def addSparseNoise(image):\n",
    "    noisyImage = copy.deepcopy(image)\n",
    "    for i in range(len(image)):\n",
    "        for j in range(len(image[0])):\n",
    "            rand = random.random()\n",
    "            if (rand <= 0.01):\n",
    "                noisyImage[i][j] = 0\n",
    "    \n",
    "    return noisyImage"
   ]
  },
  {
   "cell_type": "code",
   "execution_count": 3,
   "metadata": {
    "collapsed": false,
    "scrolled": true
   },
   "outputs": [
    {
     "name": "stdout",
     "output_type": "stream",
     "text": [
      "Images [[ 67   7  47 ...,  74 131  28]\n",
      " [ 72   7  56 ...,  91 146  44]\n",
      " [ 69   7  63 ...,  89 150  59]\n",
      " ..., \n",
      " [ 10 161  60 ...,  50   7  53]\n",
      " [ 11 146  50 ...,  34   9  43]\n",
      " [ 24 128  39 ...,  18  13  30]]\n"
     ]
    }
   ],
   "source": [
    "resizeImages('brightyalefaces/', 'yale.*')\n",
    "imageList, groups, grouptag = readImagesIntoMatrix('bestyalefaces_resized/', '.*')\n",
    "imageList = imageList.T\n",
    "\n",
    "print(\"Images %s\" % imageList)\n",
    "\n",
    "Image.fromarray(numpy.uint8(imageList.T[0].reshape(50,44))).save(\"secondyaletest/testsaveimage1.gif\")\n",
    "Image.fromarray(numpy.uint8(imageList.T[100].reshape(50,44))).save(\"secondyaletest/testsaveimage100.gif\")"
   ]
  },
  {
   "cell_type": "code",
   "execution_count": 4,
   "metadata": {
    "collapsed": false
   },
   "outputs": [
    {
     "name": "stdout",
     "output_type": "stream",
     "text": [
      "Average image [ 55.85063752  62.63296903  67.75956284 ...,  45.49635701  42.21948998\n",
      "  36.40528233]\n"
     ]
    }
   ],
   "source": [
    "(width, height) = 44, 50\n",
    "# average Image\n",
    "#print('Num images %s' % (imageList.shape,))\n",
    "avgImg = imageList.mean(axis=1)\n",
    "print('Average image %s' % (avgImg))\n",
    "normalizedImageList = imageList - avgImg.reshape(width*height,1)*numpy.ones((1,len(imageList.T)))\n",
    "Image.fromarray(numpy.uint8(avgImg.reshape(height,width))).save('secondyaletest/avgImg.gif')"
   ]
  },
  {
   "cell_type": "code",
   "execution_count": 5,
   "metadata": {
    "collapsed": false
   },
   "outputs": [
    {
     "name": "stdout",
     "output_type": "stream",
     "text": [
      "With PCA there were 35 eigenfaces that captures 90pct of the variance\n"
     ]
    }
   ],
   "source": [
    "def normalize_face(vector):\n",
    "    minValue = numpy.amin(vector)\n",
    "    maxValue = numpy.amax(vector)\n",
    "    scale = (255./(maxValue-minValue))\n",
    "    return (vector - minValue)*scale\n",
    "\n",
    "# Fit with PCA for 90% of variance\n",
    "pca = PCA(0.9).fit_transform(normalizedImageList)\n",
    "print('With PCA there were %s eigenfaces that captures 90pct of the variance' % len(pca.T))\n",
    "\n",
    "for i in range(len(pca.T)):\n",
    "    eigv = pca[:,i].reshape(1,width * height).T\n",
    "    eigenface = normalize_face(eigv)\n",
    "    Image.fromarray(numpy.uint8(eigenface.reshape(height,width))).save('secondyaletest/trial2-eigenface%s.gif' % i)"
   ]
  },
  {
   "cell_type": "code",
   "execution_count": 6,
   "metadata": {
    "collapsed": false
   },
   "outputs": [],
   "source": [
    "from numpy.linalg import norm, svd\n",
    "from scipy.io import loadmat, savemat\n",
    "\n",
    "def inexact_augmented_lagrange_multiplier(X, lmbda=.01, tol=1e-3,\n",
    "                                          maxiter=100, verbose=True):\n",
    "    \"\"\"\n",
    "    Inexact Augmented Lagrange Multiplier\n",
    "    \"\"\"\n",
    "    Y = X\n",
    "    norm_two = norm(Y.ravel(), 2)\n",
    "    norm_inf = norm(Y.ravel(), numpy.inf) / lmbda\n",
    "    dual_norm = numpy.max([norm_two, norm_inf])\n",
    "    Y = Y / dual_norm\n",
    "    A = numpy.zeros(Y.shape)\n",
    "    E = numpy.zeros(Y.shape)\n",
    "    dnorm = norm(X, 'fro')\n",
    "    mu = 1.25 / norm_two\n",
    "    rho = 1.5\n",
    "    sv = 10.\n",
    "    n = Y.shape[0]\n",
    "    itr = 0\n",
    "    while True:\n",
    "        if verbose:\n",
    "            print('Iterations %s' % itr)\n",
    "        Eraw = X - A + (1 / mu) * Y\n",
    "        Eupdate = numpy.maximum(Eraw - lmbda / mu, 0) + numpy.minimum(Eraw + lmbda / mu, 0)\n",
    "        U, S, V = svd(X - Eupdate + (1 / mu) * Y, full_matrices=False)\n",
    "        svp = (S > 1 / mu).shape[0]\n",
    "        if svp < sv:\n",
    "            sv = numpy.min([svp + 1, n])\n",
    "        else:\n",
    "            sv = numpy.min([svp + round(.05 * n), n])\n",
    "        Aupdate = numpy.dot(numpy.dot(U[:, :svp], numpy.diag(S[:svp] - 1 / mu)), V[:svp, :])\n",
    "        A = Aupdate\n",
    "        E = Eupdate\n",
    "        Z = X - A - E\n",
    "        Y = Y + mu * Z\n",
    "        mu = numpy.min([mu * rho, mu * 1e7])\n",
    "        itr += 1\n",
    "        if ((norm(Z, 'fro') / dnorm) < tol) or (itr >= maxiter):\n",
    "            break\n",
    "    if verbose:\n",
    "        print(\"Finished at iteration %d\" % (itr))  \n",
    "    return A,E"
   ]
  },
  {
   "cell_type": "code",
   "execution_count": 7,
   "metadata": {
    "collapsed": false
   },
   "outputs": [
    {
     "name": "stdout",
     "output_type": "stream",
     "text": [
      "Iterations 0\n",
      "Iterations 1\n",
      "Iterations 2\n",
      "Iterations 3\n",
      "Iterations 4\n",
      "Iterations 5\n",
      "Iterations 6\n",
      "Iterations 7\n",
      "Iterations 8\n",
      "Iterations 9\n",
      "Iterations 10\n",
      "Iterations 11\n",
      "Iterations 12\n",
      "Iterations 13\n",
      "Iterations 14\n",
      "Iterations 15\n",
      "Iterations 16\n",
      "Iterations 17\n",
      "Iterations 18\n",
      "Iterations 19\n",
      "Iterations 20\n",
      "Iterations 21\n",
      "Iterations 22\n",
      "Iterations 23\n",
      "Iterations 24\n",
      "Iterations 25\n",
      "Iterations 26\n",
      "Iterations 27\n",
      "Finished at iteration 28\n"
     ]
    }
   ],
   "source": [
    "A, E = inexact_augmented_lagrange_multiplier(normalizedImageList)"
   ]
  },
  {
   "cell_type": "code",
   "execution_count": 8,
   "metadata": {
    "collapsed": false
   },
   "outputs": [
    {
     "name": "stdout",
     "output_type": "stream",
     "text": [
      "Error [[ 12.47777424  10.42444883  -0.19160443 ...,   2.66649175  36.91751566\n",
      "  -15.35438822]\n",
      " [ 10.62744815   6.175394     2.40191946 ...,  12.62954049  42.7997561\n",
      "   -5.36725215]\n",
      " [  3.974049     0.69141344   4.69688024 ...,   9.03325912  41.37752072\n",
      "    2.143091  ]\n",
      " ..., \n",
      " [-19.85657522  43.93323974   6.97766    ...,   1.97460586  -9.53581799\n",
      "   23.98266984]\n",
      " [-14.27792786  37.249965     4.7414606  ...,  -8.43193858  -5.89663989\n",
      "   17.14795232]\n",
      " [  1.84527086  35.35675824   1.61884393 ..., -15.8678546   -0.15856331\n",
      "    8.42321869]]\n",
      "Relative error 0.51913908822\n"
     ]
    }
   ],
   "source": [
    "Image.fromarray(numpy.uint8((A.T[0] + avgImg).reshape(50,44))).save(\"secondyaletest/testsaveimage1afterrpca.gif\")\n",
    "\n",
    "print('Error %s' % E)\n",
    "\n",
    "print('Relative error %s' % (numpy.linalg.norm(E, 'fro')/numpy.linalg.norm(normalizedImageList, 'fro')))"
   ]
  },
  {
   "cell_type": "code",
   "execution_count": 9,
   "metadata": {
    "collapsed": false
   },
   "outputs": [
    {
     "name": "stdout",
     "output_type": "stream",
     "text": [
      "After RPCA there were 3 eigenfaces that captures 90pct of the variance\n"
     ]
    }
   ],
   "source": [
    "\n",
    "# Fit with PCA for 90% of variance\n",
    "rpca = PCA(0.9).fit_transform(A)\n",
    "\n",
    "print('After RPCA there were %s eigenfaces that captures 90pct of the variance' % len(rpca.T))\n",
    "\n",
    "#Let's make images for the same number of eigenfaces we used originally\n",
    "rpca = PCA(len(pca.T)).fit_transform(A)\n",
    "\n",
    "for i in range(len(rpca.T)):\n",
    "    eigv = rpca[:,i].reshape(1,width * height).T\n",
    "    eigenface = normalize_face(eigv)\n",
    "    Image.fromarray(numpy.uint8(eigenface.reshape(height,width))).save('secondyaletest/rpca-trial2-eigenface%s.gif' % i)"
   ]
  },
  {
   "cell_type": "code",
   "execution_count": 10,
   "metadata": {
    "collapsed": false
   },
   "outputs": [
    {
     "name": "stdout",
     "output_type": "stream",
     "text": [
      "In the original dimension silhouette is 0.0477783386317\n",
      "Clustering silhouette for eigenfaces 0 is -0.235869751037\n",
      "Clustering silhouette for RPCA eigenfaces 0 is -0.236356543255\n",
      "Clustering silhouette for RPCA eigenfaces on reduced 0 is -0.233409505554\n",
      "Clustering silhouette for eigenfaces 1 is -0.215144592507\n",
      "Clustering silhouette for RPCA eigenfaces 1 is -0.219294169063\n",
      "Clustering silhouette for RPCA eigenfaces on reduced 1 is -0.210931328743\n",
      "Clustering silhouette for eigenfaces 2 is -0.183154870014\n",
      "Clustering silhouette for RPCA eigenfaces 2 is -0.182687148956\n",
      "Clustering silhouette for RPCA eigenfaces on reduced 2 is -0.179413733631\n",
      "Clustering silhouette for eigenfaces 3 is -0.148839517696\n",
      "Clustering silhouette for RPCA eigenfaces 3 is -0.149054431633\n",
      "Clustering silhouette for RPCA eigenfaces on reduced 3 is -0.158524502368\n",
      "Clustering silhouette for eigenfaces 4 is -0.11796193732\n",
      "Clustering silhouette for RPCA eigenfaces 4 is -0.122490909156\n",
      "Clustering silhouette for RPCA eigenfaces on reduced 4 is -0.145486784928\n",
      "Clustering silhouette for eigenfaces 5 is -0.096306498487\n",
      "Clustering silhouette for RPCA eigenfaces 5 is -0.0961348565715\n",
      "Clustering silhouette for RPCA eigenfaces on reduced 5 is -0.13666405709\n",
      "Clustering silhouette for eigenfaces 6 is -0.0793110044478\n",
      "Clustering silhouette for RPCA eigenfaces 6 is -0.0807398235967\n",
      "Clustering silhouette for RPCA eigenfaces on reduced 6 is -0.129809475042\n",
      "Clustering silhouette for eigenfaces 7 is -0.0689134571178\n",
      "Clustering silhouette for RPCA eigenfaces 7 is -0.0655683415496\n",
      "Clustering silhouette for RPCA eigenfaces on reduced 7 is -0.12469086333\n",
      "Clustering silhouette for eigenfaces 8 is -0.053436636834\n",
      "Clustering silhouette for RPCA eigenfaces 8 is -0.0528291099728\n",
      "Clustering silhouette for RPCA eigenfaces on reduced 8 is -0.121623664899\n",
      "Clustering silhouette for eigenfaces 9 is -0.0470996964433\n",
      "Clustering silhouette for RPCA eigenfaces 9 is -0.0448754302608\n",
      "Clustering silhouette for RPCA eigenfaces on reduced 9 is -0.11990381583\n",
      "Clustering silhouette for eigenfaces 10 is -0.0367212063126\n",
      "Clustering silhouette for RPCA eigenfaces 10 is -0.0341728748043\n",
      "Clustering silhouette for RPCA eigenfaces on reduced 10 is -0.117747910018\n",
      "Clustering silhouette for eigenfaces 11 is -0.0309253062091\n",
      "Clustering silhouette for RPCA eigenfaces 11 is -0.0289626523047\n",
      "Clustering silhouette for RPCA eigenfaces on reduced 11 is -0.116664847152\n",
      "Clustering silhouette for eigenfaces 12 is -0.0262468825649\n",
      "Clustering silhouette for RPCA eigenfaces 12 is -0.0234004820302\n",
      "Clustering silhouette for RPCA eigenfaces on reduced 12 is -0.115174157504\n",
      "Clustering silhouette for eigenfaces 13 is -0.0215157819403\n",
      "Clustering silhouette for RPCA eigenfaces 13 is -0.0162288971818\n",
      "Clustering silhouette for RPCA eigenfaces on reduced 13 is -0.114079231273\n",
      "Clustering silhouette for eigenfaces 14 is -0.0164589744057\n",
      "Clustering silhouette for RPCA eigenfaces 14 is -0.0119143802356\n",
      "Clustering silhouette for RPCA eigenfaces on reduced 14 is -0.113195263219\n",
      "Clustering silhouette for eigenfaces 15 is -0.012454583822\n",
      "Clustering silhouette for RPCA eigenfaces 15 is -0.00895978520759\n",
      "Clustering silhouette for RPCA eigenfaces on reduced 15 is -0.112681163099\n",
      "Clustering silhouette for eigenfaces 16 is -0.00763934914981\n",
      "Clustering silhouette for RPCA eigenfaces 16 is -0.00475161506925\n",
      "Clustering silhouette for RPCA eigenfaces on reduced 16 is -0.112088551892\n",
      "Clustering silhouette for eigenfaces 17 is -0.00373500976164\n",
      "Clustering silhouette for RPCA eigenfaces 17 is -0.000531637652315\n",
      "Clustering silhouette for RPCA eigenfaces on reduced 17 is -0.111651238208\n",
      "Clustering silhouette for eigenfaces 18 is -0.000686857103202\n",
      "Clustering silhouette for RPCA eigenfaces 18 is 0.00111686184006\n",
      "Clustering silhouette for RPCA eigenfaces on reduced 18 is -0.111380084209\n",
      "Clustering silhouette for eigenfaces 19 is 0.00110656340297\n",
      "Clustering silhouette for RPCA eigenfaces 19 is 0.00296805768518\n",
      "Clustering silhouette for RPCA eigenfaces on reduced 19 is -0.111215646122\n",
      "Clustering silhouette for eigenfaces 20 is 0.00220031872939\n",
      "Clustering silhouette for RPCA eigenfaces 20 is 0.00425168469825\n",
      "Clustering silhouette for RPCA eigenfaces on reduced 20 is -0.1110939204\n",
      "Clustering silhouette for eigenfaces 21 is 0.00444217951958\n",
      "Clustering silhouette for RPCA eigenfaces 21 is 0.00663211650627\n",
      "Clustering silhouette for RPCA eigenfaces on reduced 21 is -0.110981544204\n",
      "Clustering silhouette for eigenfaces 22 is 0.00615320466013\n",
      "Clustering silhouette for RPCA eigenfaces 22 is 0.00800275155039\n",
      "Clustering silhouette for RPCA eigenfaces on reduced 22 is -0.110898615297\n",
      "Clustering silhouette for eigenfaces 23 is 0.00721600613747\n",
      "Clustering silhouette for RPCA eigenfaces 23 is 0.00984958795845\n",
      "Clustering silhouette for RPCA eigenfaces on reduced 23 is -0.110805616587\n",
      "Clustering silhouette for eigenfaces 24 is 0.0089324847949\n",
      "Clustering silhouette for RPCA eigenfaces 24 is 0.0122082931762\n",
      "Clustering silhouette for RPCA eigenfaces on reduced 24 is -0.110698917255\n",
      "Clustering silhouette for eigenfaces 25 is 0.0110518779335\n",
      "Clustering silhouette for RPCA eigenfaces 25 is 0.0140683915466\n",
      "Clustering silhouette for RPCA eigenfaces on reduced 25 is -0.110638634679\n",
      "Clustering silhouette for eigenfaces 26 is 0.0127721370452\n",
      "Clustering silhouette for RPCA eigenfaces 26 is 0.0153532466699\n",
      "Clustering silhouette for RPCA eigenfaces on reduced 26 is -0.110581441168\n",
      "Clustering silhouette for eigenfaces 27 is 0.0139690417545\n",
      "Clustering silhouette for RPCA eigenfaces 27 is 0.017300106435\n",
      "Clustering silhouette for RPCA eigenfaces on reduced 27 is -0.110525408198\n",
      "Clustering silhouette for eigenfaces 28 is 0.015208714506\n",
      "Clustering silhouette for RPCA eigenfaces 28 is 0.0187664749867\n",
      "Clustering silhouette for RPCA eigenfaces on reduced 28 is -0.110482729739\n",
      "Clustering silhouette for eigenfaces 29 is 0.016027088272\n",
      "Clustering silhouette for RPCA eigenfaces 29 is 0.0194071889394\n",
      "Clustering silhouette for RPCA eigenfaces on reduced 29 is -0.110457764274\n",
      "Clustering silhouette for eigenfaces 30 is 0.0171031751401\n",
      "Clustering silhouette for RPCA eigenfaces 30 is 0.0207573996135\n",
      "Clustering silhouette for RPCA eigenfaces on reduced 30 is -0.110423467707\n",
      "Clustering silhouette for eigenfaces 31 is 0.0175977550827\n",
      "Clustering silhouette for RPCA eigenfaces 31 is 0.02185951026\n",
      "Clustering silhouette for RPCA eigenfaces on reduced 31 is -0.110393615295\n",
      "Clustering silhouette for eigenfaces 32 is 0.0182949418528\n",
      "Clustering silhouette for RPCA eigenfaces 32 is 0.0230094393387\n",
      "Clustering silhouette for RPCA eigenfaces on reduced 32 is -0.11036990872\n",
      "Clustering silhouette for eigenfaces 33 is 0.0195858567259\n",
      "Clustering silhouette for RPCA eigenfaces 33 is 0.0240668548947\n",
      "Clustering silhouette for RPCA eigenfaces on reduced 33 is -0.110353483163\n",
      "Clustering silhouette for eigenfaces 34 is 0.0208115047635\n",
      "Clustering silhouette for RPCA eigenfaces 34 is 0.0253072918436\n",
      "Clustering silhouette for RPCA eigenfaces on reduced 34 is -0.110336532831\n",
      "Clustering silhouette over PCA [-0.23586975103670893, -0.21514459250740539, -0.18315487001441599, -0.14883951769574649, -0.11796193731954932, -0.096306498486978392, -0.079311004447844169, -0.068913457117771748, -0.053436636834027523, -0.04709969644333295, -0.036721206312578393, -0.03092530620908342, -0.026246882564919079, -0.021515781940252009, -0.016458974405733576, -0.012454583822038111, -0.0076393491498110673, -0.0037350097616434923, -0.00068685710320199407, 0.0011065634029664869, 0.0022003187293947422, 0.0044421795195753897, 0.0061532046601341277, 0.0072160061374719657, 0.0089324847949023619, 0.011051877933529054, 0.012772137045194715, 0.013969041754539108, 0.015208714506027204, 0.016027088272021376, 0.017103175140140557, 0.017597755082675328, 0.018294941852804735, 0.019585856725949324, 0.020811504763539098]\n"
     ]
    },
    {
     "data": {
      "image/png": "[encoded data removed]",
      "text/plain": [
       "<matplotlib.figure.Figure at 0x7f33b1b7e1d0>"
      ]
     },
     "metadata": {},
     "output_type": "display_data"
    }
   ],
   "source": [
    "xdata = [0.0]*len(pca.T)\n",
    "ydata = [0.0]*len(pca.T)\n",
    "ydataRPCA = [0.0]*len(pca.T)\n",
    "ydataRPCAOnReduced = [0.0]*len(pca.T)\n",
    "\n",
    "from sklearn.preprocessing import normalize\n",
    "from sklearn.metrics import silhouette_score\n",
    "\n",
    "pca_normalized = normalize(pca, axis=0, norm='l2')\n",
    "rpca_normalized = normalize(rpca, axis=0, norm='l2')\n",
    "\n",
    "def in_group_distance(projections, i):\n",
    "    group = grouptag[i]\n",
    "    distance = 0\n",
    "    for j in groups[group]:\n",
    "        if i != j:\n",
    "            distance += numpy.linalg.norm(projections[i] - projections[j], 2)\n",
    "    return distance/(len(groups[group]) - 1)\n",
    "\n",
    "def min_out_group_distance(projections, i):\n",
    "    group = grouptag[i]\n",
    "    min_distance = float('inf')\n",
    "    for group2 in groups:\n",
    "        if group2 != group:\n",
    "            distance = 0\n",
    "            for j in groups[group2]:\n",
    "                distance += numpy.linalg.norm(projections[i] - projections[j], 2)\n",
    "            distance /= len(groups[group2])\n",
    "            if distance <= min_distance:\n",
    "                min_distance = distance\n",
    "    return min_distance\n",
    "\n",
    "def object_sillhouette(projections, i):\n",
    "    a = in_group_distance(projections, i)\n",
    "    b = min_out_group_distance(projections, i)\n",
    "    return (b-a)/(max(a,b))\n",
    "    \n",
    "\n",
    "def group_sillhouette(projections, group):\n",
    "    total = 0.0\n",
    "    for i in groups[group]:\n",
    "        total += object_sillhouette(projections, i)\n",
    "    return total / (len(groups[group]))\n",
    "\n",
    "def clustering_sillhouette(projections):\n",
    "    total = 0.0\n",
    "    for group in groups:\n",
    "        print ('On group %s' % group)\n",
    "        total += group_sillhouette(projections, group)\n",
    "    return total / (len(groups))\n",
    "\n",
    "grouptagarray = [\"\"]*len(grouptag)\n",
    "for i in range(len(grouptag)):\n",
    "    grouptagarray[i] = grouptag[i]\n",
    "\n",
    "    \n",
    "original_clustering = silhouette_score(normalizedImageList.T, grouptagarray)\n",
    "print('In the original dimension silhouette is %s' % original_clustering)\n",
    "    \n",
    "for i in range(len(pca.T)):\n",
    "  xdata[i] = i\n",
    "  projected = normalizedImageList.T.dot(pca_normalized[:,:i+1])\n",
    "  ydata[i] = silhouette_score(projected, grouptagarray)\n",
    "  projectedRPCA = normalizedImageList.T.dot(rpca_normalized[:,:i+1])\n",
    "  ydataRPCA[i] = silhouette_score(projectedRPCA, grouptagarray)\n",
    "  projectedRPCAOnReduced = A.T.dot(rpca_normalized[:,:i+1])\n",
    "  ydataRPCAOnReduced[i] = silhouette_score(projectedRPCAOnReduced, grouptagarray)\n",
    "  print('Clustering silhouette for eigenfaces %s is %s' % (i, ydata[i]))\n",
    "  print('Clustering silhouette for RPCA eigenfaces %s is %s' % (i, ydataRPCA[i]))\n",
    "  print('Clustering silhouette for RPCA eigenfaces on reduced %s is %s' % (i, ydataRPCAOnReduced[i]))\n",
    "\n",
    "print('Clustering silhouette over PCA %s' % ydata)\n",
    "\n",
    "fig = plt.figure()\n",
    "fig.suptitle(\"Silhouette in PCA\")\n",
    "plt.plot(xdata, ydata, label=\"PCA\")\n",
    "plt.plot(xdata, ydataRPCA, label=\"RPCA on original data (lambda = 0.01)\")\n",
    "plt.plot(xdata, ydataRPCAOnReduced, label=\"RPCA on 'error removed' data (lambda = 0.01)\")\n",
    "plt.axhline(y=original_clustering, color='r', linestyle='-', label='Original Score (without dimensional reduction)')\n",
    "plt.xlabel(\"Num eigenvector used\")\n",
    "plt.ylabel(\"Silhouette\")\n",
    "plt.autoscale(enable=True, axis='x', tight=True)\n",
    "plt.legend()\n",
    "plt.savefig(\"figures/rpca0dot1trial2.png\", format = 'png')\n",
    "plt.show()\n",
    "plt.close()\n"
   ]
  },
  {
   "cell_type": "code",
   "execution_count": 11,
   "metadata": {
    "collapsed": false
   },
   "outputs": [],
   "source": [
    "imagesH = None\n",
    "rpcaImagesH = None\n",
    "\n",
    "count = 0\n",
    "for i in groups[\"24\"]:\n",
    "    if count > 5:\n",
    "        break\n",
    "    if imagesH is None:\n",
    "        imagesH = imageList.T[i].reshape(50,44)\n",
    "    else:\n",
    "        imagesH = numpy.hstack([imagesH, imageList.T[i].reshape(50,44)])\n",
    "    if rpcaImagesH is None:\n",
    "        rpcaImagesH = (A.T[i] + avgImg).reshape(50,44)\n",
    "    else:\n",
    "        rpcaImagesH = numpy.hstack([rpcaImagesH, (A.T[i] + avgImg).reshape(50,44)])\n",
    "    count += 1\n",
    "    \n",
    "Image.fromarray(numpy.uint8(imagesH)).save(\"figures/person24trial2.gif\")\n",
    "Image.fromarray(numpy.uint8(rpcaImagesH)).save(\"figures/person24AfterRPCAtrial2.gif\")"
   ]
  },
  {
   "cell_type": "code",
   "execution_count": 12,
   "metadata": {
    "collapsed": false
   },
   "outputs": [
    {
     "name": "stdout",
     "output_type": "stream",
     "text": [
      "Num groups 38\n"
     ]
    }
   ],
   "source": [
    "print('Num groups %s' % len(groups))"
   ]
  },
  {
   "cell_type": "code",
   "execution_count": null,
   "metadata": {
    "collapsed": true
   },
   "outputs": [],
   "source": []
  }
 ],
 "metadata": {
  "kernelspec": {
   "display_name": "Python 3",
   "language": "python",
   "name": "python3"
  },
  "language_info": {
   "codemirror_mode": {
    "name": "ipython",
    "version": 3
   },
   "file_extension": ".py",
   "mimetype": "text/x-python",
   "name": "python",
   "nbconvert_exporter": "python",
   "pygments_lexer": "ipython3",
   "version": "3.6.0"
  }
 },
 "nbformat": 4,
 "nbformat_minor": 0
}
