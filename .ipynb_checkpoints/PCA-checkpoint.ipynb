{
 "cells": [
  {
   "cell_type": "code",
   "execution_count": 1,
   "metadata": {
    "collapsed": false
   },
   "outputs": [],
   "source": [
    "%matplotlib inline\n",
    "from PIL import Image\n",
    "import numpy\n",
    "import os\n",
    "import re\n",
    "import random\n",
    "from resizeimage import resizeimage\n",
    "import matplotlib.pyplot as plt\n",
    "from scipy import sparse\n",
    "from sklearn.decomposition import PCA\n",
    "import copy\n",
    "import matplotlib.image as mpimg\n",
    "from sklearn.decomposition import RandomizedPCA"
   ]
  },
  {
   "cell_type": "code",
   "execution_count": 2,
   "metadata": {
    "collapsed": false
   },
   "outputs": [],
   "source": [
    "import collections\n",
    "# resize images\n",
    "def resizeImagesToDest(source, dest, prefix, height, noiseAlgo=None):    \n",
    "    for root, dirs, files in os.walk(source):\n",
    "        for name in files:\n",
    "            if re.match(r'^'+prefix+'.*gif$', name, re.I):\n",
    "                img = Image.open(os.path.join(source, name))\n",
    "                (origWidth, origHeight) = img.size\n",
    "                if (height == origHeight):\n",
    "                    resizedImg = img\n",
    "                else:\n",
    "                    resizedImg = resizeimage.resize_height(img, height)\n",
    "                \n",
    "                (width, height) = resizedImg.size\n",
    "                if noiseAlgo:\n",
    "                    noisyImg = noiseAlgo(numpy.asarray(resizedImg))\n",
    "                    Image.fromarray(numpy.uint8(noisyImg.reshape(height,width))).save(dest+name)\n",
    "                else:\n",
    "                    resizedImg.save(dest+name)\n",
    "\n",
    "def resizeImages(source, prefix):\n",
    "    resizeImagesToDest(source, 'brightyalefaces_resized/', prefix, 50)\n",
    "                \n",
    "# images into array: http://stackoverflow.com/questions/13550376/pil-image-to-array-numpy-array-to-array-python\n",
    "def readImagesIntoMatrix(path, prefix):\n",
    "    images = None\n",
    "    groups = collections.defaultdict(set)\n",
    "    grouptag = {}\n",
    "    i = 0\n",
    "    for root, dirs, files in os.walk(path):\n",
    "        for name in files:\n",
    "            if re.match(r'^'+prefix+'.*gif$', name, re.I):\n",
    "                img = Image.open(path + name)                \n",
    "                (width, height) = img.size\n",
    "                imgArr = numpy.asarray(img).reshape(height * width)\n",
    "                if images is not None:\n",
    "                    images = numpy.vstack([images, imgArr])\n",
    "                else:\n",
    "                    images = imgArr\n",
    "                group = re.match(r'.*yaleB([0-9]+)_.*', name, re.I).group(1)\n",
    "                groups[group].add(i)\n",
    "                grouptag[i] = group\n",
    "                i += 1\n",
    "    return images, groups, grouptag\n",
    "\n",
    "def saveImages(path, images, width, height):\n",
    "    for i in range(0, len(images)):\n",
    "        Image.fromarray(numpy.uint8(images[i]).reshape(height, width)).save(path+str(i)+'.gif')\n",
    "        \n",
    "def addGaussianNoise(image):\n",
    "    noisyImage = copy.deepcopy(image)\n",
    "    mu = noisyImage.mean()\n",
    "    std = noisyImage.std()\n",
    "    noise = 0.2 * numpy.random.normal(mu, std, noisyImage.shape)\n",
    "    for i in range(len(image)):\n",
    "        for j in range(len(image[0])):\n",
    "            val = image[i][j]\n",
    "            if val + noise[i][j] >= 255:\n",
    "                noisyImage[i][j] = 255\n",
    "            elif val + noise[i][j] <= 0:\n",
    "                noisyImage[i][j] = 0\n",
    "            else:\n",
    "                noisyImage[i][j] = val + noise[i][j] \n",
    "    \n",
    "    return noisyImage  \n",
    "    \n",
    "def addSparseNoise(image):\n",
    "    noisyImage = copy.deepcopy(image)\n",
    "    for i in range(len(image)):\n",
    "        for j in range(len(image[0])):\n",
    "            rand = random.random()\n",
    "            if (rand <= 0.01):\n",
    "                noisyImage[i][j] = 0\n",
    "    \n",
    "    return noisyImage"
   ]
  },
  {
   "cell_type": "code",
   "execution_count": 3,
   "metadata": {
    "collapsed": false,
    "scrolled": true
   },
   "outputs": [
    {
     "name": "stdout",
     "output_type": "stream",
     "text": [
      "Images [[ 67  47  44 ...,  74 131  28]\n",
      " [ 72  56  50 ...,  68 146  44]\n",
      " [ 69  63  54 ...,  51 150  59]\n",
      " ..., \n",
      " [ 10  60 147 ..., 102   7  53]\n",
      " [ 11  50 114 ...,  90   9  43]\n",
      " [ 24  39  59 ...,  80  13  30]]\n"
     ]
    }
   ],
   "source": [
    "resizeImages('brightyalefaces/', 'yale.*')\n",
    "imageList, groups, grouptag = readImagesIntoMatrix('brightyalefaces_resized/', '.*')\n",
    "imageList = imageList.T\n",
    "\n",
    "print(\"Images %s\" % imageList)\n",
    "\n",
    "Image.fromarray(numpy.uint8(imageList.T[0].reshape(50,44))).save(\"secondyaletest/testsaveimage1.gif\")\n",
    "Image.fromarray(numpy.uint8(imageList.T[100].reshape(50,44))).save(\"secondyaletest/testsaveimage100.gif\")"
   ]
  },
  {
   "cell_type": "code",
   "execution_count": 4,
   "metadata": {
    "collapsed": false
   },
   "outputs": [
    {
     "name": "stdout",
     "output_type": "stream",
     "text": [
      "Average image [ 54.44806517  61.94704684  67.31771894 ...,  45.74949084  43.45824847\n",
      "  37.83910387]\n"
     ]
    }
   ],
   "source": [
    "(width, height) = 44, 50\n",
    "# average Image\n",
    "#print('Num images %s' % (imageList.shape,))\n",
    "avgImg = imageList.mean(axis=1)\n",
    "print('Average image %s' % (avgImg))\n",
    "normalizedImageList = imageList - avgImg.reshape(width*height,1)*numpy.ones((1,len(imageList.T)))\n",
    "Image.fromarray(numpy.uint8(avgImg.reshape(height,width))).save('secondyaletest/avgImg.gif')"
   ]
  },
  {
   "cell_type": "code",
   "execution_count": 5,
   "metadata": {
    "collapsed": false
   },
   "outputs": [
    {
     "name": "stdout",
     "output_type": "stream",
     "text": [
      "With PCA there were 34 eigenfaces that captures 90pct of the variance\n"
     ]
    }
   ],
   "source": [
    "def normalize_face(vector):\n",
    "    minValue = numpy.amin(vector)\n",
    "    maxValue = numpy.amax(vector)\n",
    "    scale = (255./(maxValue-minValue))\n",
    "    return (vector - minValue)*scale\n",
    "\n",
    "# Fit with PCA for 90% of variance\n",
    "pca = PCA(0.9).fit_transform(normalizedImageList)\n",
    "print('With PCA there were %s eigenfaces that captures 90pct of the variance' % len(pca.T))\n",
    "\n",
    "for i in range(len(pca.T)):\n",
    "    eigv = pca[:,i].reshape(1,width * height).T\n",
    "    eigenface = normalize_face(eigv)\n",
    "    Image.fromarray(numpy.uint8(eigenface.reshape(height,width))).save('secondyaletest/trial3-eigenface%s.gif' % i)"
   ]
  },
  {
   "cell_type": "code",
   "execution_count": 6,
   "metadata": {
    "collapsed": false
   },
   "outputs": [],
   "source": [
    "from numpy.linalg import norm, svd\n",
    "from scipy.io import loadmat, savemat\n",
    "\n",
    "def inexact_augmented_lagrange_multiplier(X, lmbda=.01, tol=1e-3,\n",
    "                                          maxiter=100, verbose=True):\n",
    "    \"\"\"\n",
    "    Inexact Augmented Lagrange Multiplier\n",
    "    \"\"\"\n",
    "    Y = X\n",
    "    norm_two = norm(Y.ravel(), 2)\n",
    "    norm_inf = norm(Y.ravel(), numpy.inf) / lmbda\n",
    "    dual_norm = numpy.max([norm_two, norm_inf])\n",
    "    Y = Y / dual_norm\n",
    "    A = numpy.zeros(Y.shape)\n",
    "    E = numpy.zeros(Y.shape)\n",
    "    dnorm = norm(X, 'fro')\n",
    "    mu = 1.25 / norm_two\n",
    "    rho = 1.5\n",
    "    sv = 10.\n",
    "    n = Y.shape[0]\n",
    "    itr = 0\n",
    "    while True:\n",
    "        if verbose:\n",
    "            print('Iterations %s' % itr)\n",
    "        Eraw = X - A + (1 / mu) * Y\n",
    "        Eupdate = numpy.maximum(Eraw - lmbda / mu, 0) + numpy.minimum(Eraw + lmbda / mu, 0)\n",
    "        U, S, V = svd(X - Eupdate + (1 / mu) * Y, full_matrices=False)\n",
    "        svp = (S > 1 / mu).shape[0]\n",
    "        if svp < sv:\n",
    "            sv = numpy.min([svp + 1, n])\n",
    "        else:\n",
    "            sv = numpy.min([svp + round(.05 * n), n])\n",
    "        Aupdate = numpy.dot(numpy.dot(U[:, :svp], numpy.diag(S[:svp] - 1 / mu)), V[:svp, :])\n",
    "        A = Aupdate\n",
    "        E = Eupdate\n",
    "        Z = X - A - E\n",
    "        Y = Y + mu * Z\n",
    "        mu = numpy.min([mu * rho, mu * 1e7])\n",
    "        itr += 1\n",
    "        if ((norm(Z, 'fro') / dnorm) < tol) or (itr >= maxiter):\n",
    "            break\n",
    "    if verbose:\n",
    "        print(\"Finished at iteration %d\" % (itr))  \n",
    "    return A,E"
   ]
  },
  {
   "cell_type": "code",
   "execution_count": 7,
   "metadata": {
    "collapsed": false
   },
   "outputs": [
    {
     "name": "stdout",
     "output_type": "stream",
     "text": [
      "Iterations 0\n",
      "Iterations 1\n",
      "Iterations 2\n",
      "Iterations 3\n",
      "Iterations 4\n",
      "Iterations 5\n",
      "Iterations 6\n",
      "Iterations 7\n",
      "Iterations 8\n",
      "Iterations 9\n",
      "Iterations 10\n",
      "Iterations 11\n",
      "Iterations 12\n",
      "Iterations 13\n",
      "Iterations 14\n",
      "Iterations 15\n",
      "Iterations 16\n",
      "Iterations 17\n",
      "Iterations 18\n",
      "Iterations 19\n",
      "Iterations 20\n",
      "Iterations 21\n",
      "Iterations 22\n",
      "Iterations 23\n",
      "Iterations 24\n",
      "Iterations 25\n",
      "Iterations 26\n",
      "Finished at iteration 27\n"
     ]
    }
   ],
   "source": [
    "A, E = inexact_augmented_lagrange_multiplier(normalizedImageList)"
   ]
  },
  {
   "cell_type": "code",
   "execution_count": 9,
   "metadata": {
    "collapsed": false
   },
   "outputs": [
    {
     "name": "stdout",
     "output_type": "stream",
     "text": [
      "Error [[ 15.30452605   0.55908533   4.72542199 ...,  13.656004    48.32919731\n",
      "  -16.65155899]\n",
      " [ 13.9603675    4.23493325   1.4175125  ...,   1.2620664   55.9404218\n",
      "   -6.40614454]\n",
      " [  6.7757143    6.71461513  -2.55169648 ..., -15.75104262  53.94719509\n",
      "    1.86484518]\n",
      " ..., \n",
      " [-21.00515161   8.0977647   57.37299918 ...,  43.71194804  -6.38434057\n",
      "   27.48323956]\n",
      " [-15.92238023   5.2533761   29.39357168 ...,  33.5285966   -2.85698181\n",
      "   18.98878598]\n",
      " [  0.49657908   3.4972257  -11.06248594 ...,  29.08745905   1.9643245\n",
      "    9.90054186]]\n",
      "Relative error 0.658943200135\n"
     ]
    }
   ],
   "source": [
    "Image.fromarray(numpy.uint8((A.T[0] + avgImg).reshape(50,44))).save(\"secondyaletest/testsaveimage1afterrpca.gif\")\n",
    "\n",
    "print('Error %s' % E)\n",
    "\n",
    "print('Relative error %s' % (numpy.linalg.norm(E, 'fro')/numpy.linalg.norm(normalizedImageList, 'fro')))"
   ]
  },
  {
   "cell_type": "code",
   "execution_count": 10,
   "metadata": {
    "collapsed": false
   },
   "outputs": [
    {
     "name": "stdout",
     "output_type": "stream",
     "text": [
      "After RPCA there were 4 eigenfaces that captures 90pct of the variance\n"
     ]
    }
   ],
   "source": [
    "\n",
    "# Fit with PCA for 90% of variance\n",
    "rpca = PCA(0.9).fit_transform(A)\n",
    "\n",
    "print('After RPCA there were %s eigenfaces that captures 90pct of the variance' % len(rpca.T))\n",
    "\n",
    "#Let's make images for the same number of eigenfaces we used originally\n",
    "rpca = PCA(len(pca.T)).fit_transform(A)\n",
    "\n",
    "for i in range(len(rpca.T)):\n",
    "    eigv = rpca[:,i].reshape(1,width * height).T\n",
    "    eigenface = normalize_face(eigv)\n",
    "    Image.fromarray(numpy.uint8(eigenface.reshape(height,width))).save('secondyaletest/rpca-trial3-eigenface%s.gif' % i)"
   ]
  },
  {
   "cell_type": "code",
   "execution_count": 12,
   "metadata": {
    "collapsed": false
   },
   "outputs": [
    {
     "name": "stdout",
     "output_type": "stream",
     "text": [
      "In the original dimension silhouette is 0.167630700365\n",
      "Clustering silhouette over PCA [-0.3094971058161417, -0.27461927313288326, -0.20855008272984632, -0.13631770463420617, -0.086249588587480164, -0.041027286241874968, -0.016042178162057621, 0.013888847716083149, 0.04167752316530967, 0.057498546450125539, 0.074768244914444448, 0.08942280289093639, 0.09832554736089541, 0.10999460739582467, 0.12115954119750556, 0.12786369789805779, 0.13325181714986531, 0.13973911120986479, 0.14666959184161774, 0.1531473373942675, 0.15799358513609771, 0.16227697669515409, 0.16681671983448246, 0.16974504261664117, 0.17242552068208028, 0.17414324642474391, 0.17645994902991261, 0.17970707286429066, 0.18234103719931394, 0.18587188190256568, 0.1894364687053158, 0.19129746376703566, 0.1927733374632111, 0.19497688586479359]\n"
     ]
    },
    {
     "data": {
      "image/png": "[encoded data removed]",
      "text/plain": [
       "<matplotlib.figure.Figure at 0x7fbc7f742080>"
      ]
     },
     "metadata": {},
     "output_type": "display_data"
    },
    {
     "name": "stdout",
     "output_type": "stream",
     "text": [
      "In the original dimension silhouette is 0.3176798326\n",
      "Clustering silhouette over PCA [-0.3094971058161417, -0.27461927313288326, -0.20855008272984632, -0.13631770463420617, -0.086249588587480164, -0.041027286241874968, -0.016042178162057621, 0.013888847716083149, 0.04167752316530967, 0.057498546450125539, 0.074768244914444448, 0.08942280289093639, 0.09832554736089541, 0.10999460739582467, 0.12115954119750556, 0.12786369789805779, 0.13325181714986531, 0.13973911120986479, 0.14666959184161774, 0.1531473373942675, 0.15799358513609771, 0.16227697669515409, 0.16681671983448246, 0.16974504261664117, 0.17242552068208028, 0.17414324642474391, 0.17645994902991261, 0.17970707286429066, 0.18234103719931394, 0.18587188190256568, 0.1894364687053158, 0.19129746376703566, 0.1927733374632111, 0.19497688586479359]\n"
     ]
    },
    {
     "data": {
      "image/png": "[encoded data removed]",
      "text/plain": [
       "<matplotlib.figure.Figure at 0x7fbc835d0b00>"
      ]
     },
     "metadata": {},
     "output_type": "display_data"
    },
    {
     "name": "stdout",
     "output_type": "stream",
     "text": [
      "In the original dimension silhouette is 0.195503195726\n",
      "Clustering silhouette over PCA [-0.3094971058161417, -0.27461927313288326, -0.20855008272984632, -0.13631770463420617, -0.086249588587480164, -0.041027286241874968, -0.016042178162057621, 0.013888847716083149, 0.04167752316530967, 0.057498546450125539, 0.074768244914444448, 0.08942280289093639, 0.09832554736089541, 0.10999460739582467, 0.12115954119750556, 0.12786369789805779, 0.13325181714986531, 0.13973911120986479, 0.14666959184161774, 0.1531473373942675, 0.15799358513609771, 0.16227697669515409, 0.16681671983448246, 0.16974504261664117, 0.17242552068208028, 0.17414324642474391, 0.17645994902991261, 0.17970707286429066, 0.18234103719931394, 0.18587188190256568, 0.1894364687053158, 0.19129746376703566, 0.1927733374632111, 0.19497688586479359]\n"
     ]
    },
    {
     "data": {
      "image/png": "[encoded data removed]",
      "text/plain": [
       "<matplotlib.figure.Figure at 0x7fbc7f7a96a0>"
      ]
     },
     "metadata": {},
     "output_type": "display_data"
    }
   ],
   "source": [
    "xdata = [0.0]*len(pca.T)\n",
    "ydata = [0.0]*len(pca.T)\n",
    "ydataRPCA = [0.0]*len(pca.T)\n",
    "ydataRPCAOnReduced = [0.0]*len(pca.T)\n",
    "\n",
    "from sklearn.preprocessing import normalize\n",
    "from sklearn.metrics import silhouette_score\n",
    "\n",
    "pca_normalized = normalize(pca, axis=0, norm='l2')\n",
    "rpca_normalized = normalize(rpca, axis=0, norm='l2')\n",
    "\n",
    "def in_group_distance(projections, i):\n",
    "    group = grouptag[i]\n",
    "    distance = 0\n",
    "    for j in groups[group]:\n",
    "        if i != j:\n",
    "            distance += numpy.linalg.norm(projections[i] - projections[j], 2)\n",
    "    return distance/(len(groups[group]) - 1)\n",
    "\n",
    "def min_out_group_distance(projections, i):\n",
    "    group = grouptag[i]\n",
    "    min_distance = float('inf')\n",
    "    for group2 in groups:\n",
    "        if group2 != group:\n",
    "            distance = 0\n",
    "            for j in groups[group2]:\n",
    "                distance += numpy.linalg.norm(projections[i] - projections[j], 2)\n",
    "            distance /= len(groups[group2])\n",
    "            if distance <= min_distance:\n",
    "                min_distance = distance\n",
    "    return min_distance\n",
    "\n",
    "def object_sillhouette(projections, i):\n",
    "    a = in_group_distance(projections, i)\n",
    "    b = min_out_group_distance(projections, i)\n",
    "    return (b-a)/(max(a,b))\n",
    "    \n",
    "\n",
    "def group_sillhouette(projections, group):\n",
    "    total = 0.0\n",
    "    for i in groups[group]:\n",
    "        total += object_sillhouette(projections, i)\n",
    "    return total / (len(groups[group]))\n",
    "\n",
    "def clustering_sillhouette(projections):\n",
    "    total = 0.0\n",
    "    for group in groups:\n",
    "        print ('On group %s' % group)\n",
    "        total += group_sillhouette(projections, group)\n",
    "    return total / (len(groups))\n",
    "\n",
    "grouptagarray = [\"\"]*len(grouptag)\n",
    "for i in range(len(grouptag)):\n",
    "    grouptagarray[i] = grouptag[i]\n",
    "\n",
    "for metric in ['cityblock', 'cosine', 'euclidean']:\n",
    "    original_clustering = silhouette_score(normalizedImageList.T, grouptagarray, metric=metric)\n",
    "    print('In the original dimension silhouette is %s' % original_clustering)\n",
    "\n",
    "    for i in range(len(pca.T)):\n",
    "      xdata[i] = i\n",
    "      projected = normalizedImageList.T.dot(pca_normalized[:,:i+1])\n",
    "      ydata[i] = silhouette_score(projected, grouptagarray)\n",
    "      projectedRPCA = normalizedImageList.T.dot(rpca_normalized[:,:i+1])\n",
    "      ydataRPCA[i] = silhouette_score(projectedRPCA, grouptagarray)\n",
    "      projectedRPCAOnReduced = A.T.dot(rpca_normalized[:,:i+1])\n",
    "      ydataRPCAOnReduced[i] = silhouette_score(projectedRPCAOnReduced, grouptagarray)\n",
    "\n",
    "    print('Clustering silhouette over PCA %s' % ydata)\n",
    "\n",
    "    fig = plt.figure()\n",
    "    fig.suptitle(\"Silhouette (%s) in PCA\" % metric)\n",
    "    plt.plot(xdata, ydata, label=\"PCA\")\n",
    "    plt.plot(xdata, ydataRPCA, label=\"RPCA on original data (lambda = 0.01)\")\n",
    "    plt.plot(xdata, ydataRPCAOnReduced, label=\"RPCA on 'error removed' data (lambda = 0.01)\")\n",
    "    plt.axhline(y=original_clustering, color='r', linestyle='-', label='Original Score (without dimensional reduction)')\n",
    "    plt.xlabel(\"Num eigenvector used\")\n",
    "    plt.ylabel(\"Silhouette (%s)\" % metric)\n",
    "    plt.autoscale(enable=True, axis='x', tight=True)\n",
    "    plt.legend()\n",
    "    plt.savefig(\"figures/rpca0dot1trial3%s.png\" % metric, format = 'png')\n",
    "    plt.show()\n",
    "    plt.close()\n"
   ]
  },
  {
   "cell_type": "code",
   "execution_count": 11,
   "metadata": {
    "collapsed": false
   },
   "outputs": [],
   "source": [
    "imagesH = None\n",
    "rpcaImagesH = None\n",
    "\n",
    "count = 0\n",
    "for i in groups[\"24\"]:\n",
    "    if count > 5:\n",
    "        break\n",
    "    if imagesH is None:\n",
    "        imagesH = imageList.T[i].reshape(50,44)\n",
    "    else:\n",
    "        imagesH = numpy.hstack([imagesH, imageList.T[i].reshape(50,44)])\n",
    "    if rpcaImagesH is None:\n",
    "        rpcaImagesH = (A.T[i] + avgImg).reshape(50,44)\n",
    "    else:\n",
    "        rpcaImagesH = numpy.hstack([rpcaImagesH, (A.T[i] + avgImg).reshape(50,44)])\n",
    "    count += 1\n",
    "    \n",
    "Image.fromarray(numpy.uint8(imagesH)).save(\"figures/person24trial3.gif\")\n",
    "Image.fromarray(numpy.uint8(rpcaImagesH)).save(\"figures/person24AfterRPCAtrial3.gif\")"
   ]
  },
  {
   "cell_type": "code",
   "execution_count": 12,
   "metadata": {
    "collapsed": false
   },
   "outputs": [
    {
     "name": "stdout",
     "output_type": "stream",
     "text": [
      "Num groups 38\n"
     ]
    }
   ],
   "source": [
    "print('Num groups %s' % len(groups))"
   ]
  },
  {
   "cell_type": "code",
   "execution_count": null,
   "metadata": {
    "collapsed": true
   },
   "outputs": [],
   "source": []
  }
 ],
 "metadata": {
  "kernelspec": {
   "display_name": "Python 3",
   "language": "python",
   "name": "python3"
  },
  "language_info": {
   "codemirror_mode": {
    "name": "ipython",
    "version": 3
   },
   "file_extension": ".py",
   "mimetype": "text/x-python",
   "name": "python",
   "nbconvert_exporter": "python",
   "pygments_lexer": "ipython3",
   "version": "3.6.0"
  }
 },
 "nbformat": 4,
 "nbformat_minor": 0
}
