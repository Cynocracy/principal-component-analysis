{
 "cells": [
  {
   "cell_type": "code",
   "execution_count": 1,
   "metadata": {
    "collapsed": false
   },
   "outputs": [],
   "source": [
    "%matplotlib inline\n",
    "from PIL import Image\n",
    "import numpy\n",
    "import os\n",
    "import re\n",
    "import random\n",
    "from resizeimage import resizeimage\n",
    "import matplotlib.pyplot as plt\n",
    "from scipy import sparse\n",
    "from sklearn.decomposition import PCA\n",
    "import copy\n",
    "import matplotlib.image as mpimg\n",
    "from sklearn.decomposition import RandomizedPCA"
   ]
  },
  {
   "cell_type": "code",
   "execution_count": 2,
   "metadata": {
    "collapsed": false
   },
   "outputs": [],
   "source": [
    "import collections\n",
    "# resize images\n",
    "def resizeImagesToDest(source, dest, prefix, height, noiseAlgo=None):    \n",
    "    for root, dirs, files in os.walk(source):\n",
    "        for name in files:\n",
    "            if re.match(r'^'+prefix+'.*gif$', name, re.I):\n",
    "                img = Image.open(os.path.join(source, name))\n",
    "                (origWidth, origHeight) = img.size\n",
    "                if (height == origHeight):\n",
    "                    resizedImg = img\n",
    "                else:\n",
    "                    resizedImg = resizeimage.resize_height(img, height)\n",
    "                \n",
    "                (width, height) = resizedImg.size\n",
    "                if noiseAlgo:\n",
    "                    noisyImg = noiseAlgo(numpy.asarray(resizedImg))\n",
    "                    Image.fromarray(numpy.uint8(noisyImg.reshape(height,width))).save(dest+name)\n",
    "                else:\n",
    "                    resizedImg.save(dest+name)\n",
    "\n",
    "def resizeImages(source, prefix):\n",
    "    resizeImagesToDest(source, 'yalefaces_resized/', prefix, 50)\n",
    "                \n",
    "# images into array: http://stackoverflow.com/questions/13550376/pil-image-to-array-numpy-array-to-array-python\n",
    "def readImagesIntoMatrix(path, prefix):\n",
    "    images = None\n",
    "    groups = collections.defaultdict(set)\n",
    "    grouptag = {}\n",
    "    i = 0\n",
    "    for root, dirs, files in os.walk(path):\n",
    "        for name in files:\n",
    "            if re.match(r'^'+prefix+'.*gif$', name, re.I):\n",
    "                img = Image.open(path + name)                \n",
    "                (width, height) = img.size\n",
    "                imgArr = numpy.asarray(img).reshape(height * width)\n",
    "                if images is not None:\n",
    "                    images = numpy.vstack([images, imgArr])\n",
    "                else:\n",
    "                    images = imgArr\n",
    "                group = re.match(r'.*yaleB([0-9]+)_.*', name, re.I).group(1)\n",
    "                groups[group].add(i)\n",
    "                grouptag[i] = group\n",
    "                i += 1\n",
    "    return images, groups, grouptag\n",
    "\n",
    "def saveImages(path, images, width, height):\n",
    "    for i in range(0, len(images)):\n",
    "        Image.fromarray(numpy.uint8(images[i]).reshape(height, width)).save(path+str(i)+'.gif')\n",
    "        \n",
    "def addGaussianNoise(image):\n",
    "    noisyImage = copy.deepcopy(image)\n",
    "    mu = noisyImage.mean()\n",
    "    std = noisyImage.std()\n",
    "    noise = 0.2 * numpy.random.normal(mu, std, noisyImage.shape)\n",
    "    for i in range(len(image)):\n",
    "        for j in range(len(image[0])):\n",
    "            val = image[i][j]\n",
    "            if val + noise[i][j] >= 255:\n",
    "                noisyImage[i][j] = 255\n",
    "            elif val + noise[i][j] <= 0:\n",
    "                noisyImage[i][j] = 0\n",
    "            else:\n",
    "                noisyImage[i][j] = val + noise[i][j] \n",
    "    \n",
    "    return noisyImage  \n",
    "    \n",
    "def addSparseNoise(image):\n",
    "    noisyImage = copy.deepcopy(image)\n",
    "    for i in range(len(image)):\n",
    "        for j in range(len(image[0])):\n",
    "            rand = random.random()\n",
    "            if (rand <= 0.01):\n",
    "                noisyImage[i][j] = 0\n",
    "    \n",
    "    return noisyImage"
   ]
  },
  {
   "cell_type": "code",
   "execution_count": 3,
   "metadata": {
    "collapsed": false,
    "scrolled": true
   },
   "outputs": [
    {
     "name": "stdout",
     "output_type": "stream",
     "text": [
      "Images [[ 72   6  55 ...,  51 127  39]\n",
      " [ 73   7  59 ...,  58 130  38]\n",
      " [ 75   8  65 ...,  59 132  41]\n",
      " ..., \n",
      " [ 34 128  60 ...,  20  15  46]\n",
      " [ 33 132  55 ...,  16  15  39]\n",
      " [ 31 129  48 ...,  12  17  32]]\n"
     ]
    }
   ],
   "source": [
    "imageList, groups, grouptag = readImagesIntoMatrix('brightyalefaces/', '.*')\n",
    "imageList = imageList.T\n",
    "\n",
    "print(\"Images %s\" % imageList)\n",
    "\n",
    "(width, height) = 168, 192\n",
    "Image.fromarray(numpy.uint8(imageList.T[0].reshape(height,width))).save(\"secondyaletest/testsaveimage1.gif\")\n",
    "Image.fromarray(numpy.uint8(imageList.T[100].reshape(height,width))).save(\"secondyaletest/testsaveimage100.gif\")"
   ]
  },
  {
   "cell_type": "code",
   "execution_count": 4,
   "metadata": {
    "collapsed": false
   },
   "outputs": [
    {
     "name": "stdout",
     "output_type": "stream",
     "text": [
      "Average image [ 57.21857923  59.01457195  61.05919854 ...,  41.61020036  40.18397086\n",
      "  39.16484517]\n"
     ]
    }
   ],
   "source": [
    "# average Image\n",
    "#print('Num images %s' % (imageList.shape,))\n",
    "avgImg = imageList.mean(axis=1)\n",
    "print('Average image %s' % (avgImg))\n",
    "normalizedImageList = imageList - avgImg.reshape(width*height,1)*numpy.ones((1,len(imageList.T)))\n",
    "Image.fromarray(numpy.uint8(avgImg.reshape(height,width))).save('secondyaletest/avgImg.gif')"
   ]
  },
  {
   "cell_type": "code",
   "execution_count": 5,
   "metadata": {
    "collapsed": false
   },
   "outputs": [
    {
     "name": "stdout",
     "output_type": "stream",
     "text": [
      "With PCA there were 42 eigenfaces that captures 90pct of the variance\n"
     ]
    }
   ],
   "source": [
    "def normalize_face(vector):\n",
    "    minValue = numpy.amin(vector)\n",
    "    maxValue = numpy.amax(vector)\n",
    "    scale = (255./(maxValue-minValue))\n",
    "    return (vector - minValue)*scale\n",
    "\n",
    "# Fit with PCA for 90% of variance\n",
    "pca = PCA(0.9).fit_transform(normalizedImageList)\n",
    "print('With PCA there were %s eigenfaces that captures 90pct of the variance' % len(pca.T))\n",
    "\n",
    "for i in range(len(pca.T)):\n",
    "    eigv = pca[:,i].reshape(1,width * height).T\n",
    "    eigenface = normalize_face(eigv)\n",
    "    Image.fromarray(numpy.uint8(eigenface.reshape(height,width))).save('secondyaletest/trial2-eigenface%s.gif' % i)"
   ]
  },
  {
   "cell_type": "code",
   "execution_count": 6,
   "metadata": {
    "collapsed": false
   },
   "outputs": [],
   "source": [
    "from numpy.linalg import norm, svd\n",
    "from scipy.io import loadmat, savemat\n",
    "\n",
    "def inexact_augmented_lagrange_multiplier(X, lmbda=.01, tol=1e-3,\n",
    "                                          maxiter=100, verbose=True):\n",
    "    \"\"\"\n",
    "    Inexact Augmented Lagrange Multiplier\n",
    "    \"\"\"\n",
    "    Y = X\n",
    "    norm_two = norm(Y.ravel(), 2)\n",
    "    norm_inf = norm(Y.ravel(), numpy.inf) / lmbda\n",
    "    dual_norm = numpy.max([norm_two, norm_inf])\n",
    "    Y = Y / dual_norm\n",
    "    A = numpy.zeros(Y.shape)\n",
    "    E = numpy.zeros(Y.shape)\n",
    "    dnorm = norm(X, 'fro')\n",
    "    mu = 1.25 / norm_two\n",
    "    rho = 1.5\n",
    "    sv = 10.\n",
    "    n = Y.shape[0]\n",
    "    itr = 0\n",
    "    while True:\n",
    "        if verbose:\n",
    "            print('Iterations %s' % itr)\n",
    "        Eraw = X - A + (1 / mu) * Y\n",
    "        Eupdate = numpy.maximum(Eraw - lmbda / mu, 0) + numpy.minimum(Eraw + lmbda / mu, 0)\n",
    "        U, S, V = svd(X - Eupdate + (1 / mu) * Y, full_matrices=False)\n",
    "        svp = (S > 1 / mu).shape[0]\n",
    "        if svp < sv:\n",
    "            sv = numpy.min([svp + 1, n])\n",
    "        else:\n",
    "            sv = numpy.min([svp + round(.05 * n), n])\n",
    "        Aupdate = numpy.dot(numpy.dot(U[:, :svp], numpy.diag(S[:svp] - 1 / mu)), V[:svp, :])\n",
    "        A = Aupdate\n",
    "        E = Eupdate\n",
    "        Z = X - A - E\n",
    "        Y = Y + mu * Z\n",
    "        mu = numpy.min([mu * rho, mu * 1e7])\n",
    "        itr += 1\n",
    "        if ((norm(Z, 'fro') / dnorm) < tol) or (itr >= maxiter):\n",
    "            break\n",
    "    if verbose:\n",
    "        print(\"Finished at iteration %d\" % (itr))  \n",
    "    return A,E"
   ]
  },
  {
   "cell_type": "code",
   "execution_count": 7,
   "metadata": {
    "collapsed": false
   },
   "outputs": [
    {
     "name": "stdout",
     "output_type": "stream",
     "text": [
      "Iterations 0\n",
      "Iterations 1\n",
      "Iterations 2\n",
      "Iterations 3\n",
      "Iterations 4\n",
      "Iterations 5\n",
      "Iterations 6\n",
      "Iterations 7\n",
      "Iterations 8\n",
      "Iterations 9\n",
      "Iterations 10\n",
      "Iterations 11\n",
      "Iterations 12\n",
      "Iterations 13\n",
      "Iterations 14\n",
      "Iterations 15\n",
      "Iterations 16\n",
      "Iterations 17\n",
      "Iterations 18\n",
      "Finished at iteration 19\n"
     ]
    }
   ],
   "source": [
    "A, E = inexact_augmented_lagrange_multiplier(normalizedImageList, lmbda=0.01)"
   ]
  },
  {
   "cell_type": "code",
   "execution_count": 8,
   "metadata": {
    "collapsed": false
   },
   "outputs": [
    {
     "name": "stdout",
     "output_type": "stream",
     "text": [
      "Iterations 0\n",
      "Iterations 1\n",
      "Iterations 2\n",
      "Iterations 3\n",
      "Iterations 4\n",
      "Iterations 5\n",
      "Iterations 6\n",
      "Iterations 7\n",
      "Iterations 8\n",
      "Iterations 9\n",
      "Iterations 10\n",
      "Iterations 11\n",
      "Iterations 12\n",
      "Iterations 13\n",
      "Iterations 14\n",
      "Iterations 15\n",
      "Iterations 16\n",
      "Iterations 17\n",
      "Iterations 18\n",
      "Iterations 19\n",
      "Iterations 20\n",
      "Iterations 21\n",
      "Iterations 22\n",
      "Iterations 23\n",
      "Iterations 24\n",
      "Iterations 25\n",
      "Iterations 26\n",
      "Finished at iteration 27\n"
     ]
    }
   ],
   "source": [
    "A2, E2 = inexact_augmented_lagrange_multiplier(normalizedImageList, lmbda=0.005)"
   ]
  },
  {
   "cell_type": "code",
   "execution_count": 9,
   "metadata": {
    "collapsed": false
   },
   "outputs": [
    {
     "name": "stdout",
     "output_type": "stream",
     "text": [
      "Iterations 0\n",
      "Iterations 1\n",
      "Iterations 2\n",
      "Iterations 3\n",
      "Iterations 4\n",
      "Iterations 5\n",
      "Iterations 6\n",
      "Iterations 7\n",
      "Iterations 8\n",
      "Iterations 9\n",
      "Iterations 10\n",
      "Iterations 11\n",
      "Iterations 12\n",
      "Iterations 13\n",
      "Iterations 14\n",
      "Iterations 15\n",
      "Iterations 16\n",
      "Iterations 17\n",
      "Finished at iteration 18\n"
     ]
    }
   ],
   "source": [
    "A3, E3 = inexact_augmented_lagrange_multiplier(normalizedImageList, lmbda=0.02)"
   ]
  },
  {
   "cell_type": "code",
   "execution_count": 10,
   "metadata": {
    "collapsed": false
   },
   "outputs": [
    {
     "name": "stdout",
     "output_type": "stream",
     "text": [
      "Iterations 0\n",
      "Iterations 1\n",
      "Iterations 2\n",
      "Iterations 3\n",
      "Iterations 4\n",
      "Iterations 5\n",
      "Iterations 6\n",
      "Iterations 7\n",
      "Iterations 8\n",
      "Iterations 9\n",
      "Iterations 10\n",
      "Iterations 11\n",
      "Iterations 12\n",
      "Iterations 13\n",
      "Iterations 14\n",
      "Iterations 15\n",
      "Iterations 16\n",
      "Iterations 17\n",
      "Iterations 18\n",
      "Iterations 19\n",
      "Iterations 20\n",
      "Iterations 21\n",
      "Iterations 22\n",
      "Iterations 23\n",
      "Iterations 24\n",
      "Iterations 25\n",
      "Iterations 26\n",
      "Iterations 27\n",
      "Finished at iteration 28\n"
     ]
    }
   ],
   "source": [
    "A4, E4 = inexact_augmented_lagrange_multiplier(normalizedImageList, lmbda=0.001)"
   ]
  },
  {
   "cell_type": "code",
   "execution_count": 11,
   "metadata": {
    "collapsed": false
   },
   "outputs": [
    {
     "name": "stdout",
     "output_type": "stream",
     "text": [
      "Error [[ 0.          0.          0.         ...,  0.          0.12038401  0.        ]\n",
      " [ 0.          0.          0.         ...,  0.          0.07354871  0.        ]\n",
      " [ 0.          0.          0.         ...,  0.          0.          0.        ]\n",
      " ..., \n",
      " [ 1.50842891  0.          0.         ...,  0.          0.          0.        ]\n",
      " [ 0.26279211  0.          0.         ...,  0.          0.         -0.27934687]\n",
      " [ 0.          0.          0.         ...,  0.          0.         -2.11525018]]\n",
      "Error [[  3.67621382  12.38032756  -0.72297368 ...,  -8.24273161  16.26121877\n",
      "   -0.8139811 ]\n",
      " [  0.98216544  11.45862042   0.06517138 ...,  -5.28928933  16.80629905\n",
      "   -2.86680908]\n",
      " [  1.45067419   9.21796342   0.08885916 ...,  -4.86704341  14.32996968\n",
      "   -0.86591037]\n",
      " ..., \n",
      " [  8.16000819  -0.3223624    1.44724306 ...,  -8.61998214   1.17230131\n",
      "    8.71218903]\n",
      " [  7.62326722   2.18602723   3.19860386 ...,  -7.18135537   0.40203718\n",
      "    3.15543335]\n",
      " [  5.46823086   1.76319071   1.61599206 ...,  -5.44279445   1.6969962\n",
      "   -0.90091031]]\n",
      "Relative error 0.01 0.100241277115\n",
      "Relative error 0.005 0.24332652481\n",
      "Relative error 0.2 0.0536224542039\n",
      "Relative error 0.001 0.848847034051\n"
     ]
    }
   ],
   "source": [
    "Image.fromarray(numpy.uint8((A.T[0] + avgImg).reshape(height,width))).save(\"secondyaletest/testsaveimage1afterrpca.gif\")\n",
    "\n",
    "print('Error %s' % E)\n",
    "print('Error %s' % E2)\n",
    "\n",
    "print('Relative error %s %s' % (0.01, numpy.linalg.norm(E, 'fro')/numpy.linalg.norm(normalizedImageList, 'fro')))\n",
    "print('Relative error %s %s' % (0.005, numpy.linalg.norm(E2, 'fro')/numpy.linalg.norm(normalizedImageList, 'fro')))\n",
    "print('Relative error %s %s' % (0.2, numpy.linalg.norm(E3, 'fro')/numpy.linalg.norm(normalizedImageList, 'fro')))\n",
    "print('Relative error %s %s' % (0.001, numpy.linalg.norm(E4, 'fro')/numpy.linalg.norm(normalizedImageList, 'fro')))"
   ]
  },
  {
   "cell_type": "code",
   "execution_count": 12,
   "metadata": {
    "collapsed": false
   },
   "outputs": [
    {
     "name": "stdout",
     "output_type": "stream",
     "text": [
      "After RPCA (lam=0.01) there were 33 eigenfaces that captures 90pct of the variance\n",
      "After RPCA (lam=0.005) there were 16 eigenfaces that captures 90pct of the variance\n",
      "After RPCA (lam=0.001) there were 1 eigenfaces that captures 90pct of the variance\n"
     ]
    }
   ],
   "source": [
    "\n",
    "# Fit with PCA for 90% of variance\n",
    "rpca = PCA(0.9).fit_transform(A)\n",
    "rpca2 = PCA(0.9).fit_transform(A2)\n",
    "rpca4 = PCA(0.9).fit_transform(A4)\n",
    "\n",
    "print('After RPCA (lam=%s) there were %s eigenfaces that captures 90pct of the variance' % (0.01, len(rpca.T)))\n",
    "print('After RPCA (lam=%s) there were %s eigenfaces that captures 90pct of the variance' % (0.005, len(rpca2.T)))\n",
    "print('After RPCA (lam=%s) there were %s eigenfaces that captures 90pct of the variance' % (0.001, len(rpca4.T)))\n",
    "\n",
    "#Let's make images for the same number of eigenfaces we used originally\n",
    "rpca = PCA(len(pca.T)).fit_transform(A)\n",
    "rpca2 = PCA(len(pca.T)).fit_transform(A2)\n",
    "rpca3 = PCA(len(pca.T)).fit_transform(A3)\n",
    "rpca4 = PCA(len(pca.T)).fit_transform(A4)"
   ]
  },
  {
   "cell_type": "code",
   "execution_count": 13,
   "metadata": {
    "collapsed": false
   },
   "outputs": [
    {
     "name": "stdout",
     "output_type": "stream",
     "text": [
      "In the original dimension silhouette is 0.0268622427505\n",
      "Clustering silhouette over PCA [-0.23624407024625071, -0.21523710474392357, -0.18315982503087153, -0.14859237053420382, -0.1174162937472847, -0.095934918670641661, -0.078254696885158612, -0.067775997298390789, -0.052482360921126563, -0.046042205827344543, -0.035009943115803098, -0.029458012278270457, -0.024521490876526494, -0.019234238495167071, -0.015044827446019862, -0.010779649012717147, -0.0059046322018563432, -0.0019980219380593611, 0.0010355456038692085, 0.0029167862931912636, 0.004172634015401664, 0.0063918274576653172, 0.0082946956096369134, 0.0093520857789351555, 0.010932008569935054, 0.013071523063492232, 0.014951401830714443, 0.016140980816282569, 0.017554979518574178, 0.018457921380543581, 0.019753227894337581, 0.020401349076911393, 0.020851822623917861, 0.02174249977109249, 0.023036769611266814, 0.024499053899174329, 0.026718255195639286, 0.027294576310576558, 0.028084453091962818, 0.029073487637909581, 0.029494350002688716, 0.030255706852450954]\n"
     ]
    },
    {
     "data": {
      "image/png": "[encoded data removed]",
      "text/plain": [
       "<matplotlib.figure.Figure at 0x7f075361fa20>"
      ]
     },
     "metadata": {},
     "output_type": "display_data"
    },
    {
     "name": "stdout",
     "output_type": "stream",
     "text": [
      "In the original dimension silhouette is 0.0703100408698\n",
      "Clustering silhouette over PCA [-0.23624407024625071, -0.21523710474392357, -0.18315982503087153, -0.14859237053420382, -0.1174162937472847, -0.095934918670641661, -0.078254696885158612, -0.067775997298390789, -0.052482360921126563, -0.046042205827344543, -0.035009943115803098, -0.029458012278270457, -0.024521490876526494, -0.019234238495167071, -0.015044827446019862, -0.010779649012717147, -0.0059046322018563432, -0.0019980219380593611, 0.0010355456038692085, 0.0029167862931912636, 0.004172634015401664, 0.0063918274576653172, 0.0082946956096369134, 0.0093520857789351555, 0.010932008569935054, 0.013071523063492232, 0.014951401830714443, 0.016140980816282569, 0.017554979518574178, 0.018457921380543581, 0.019753227894337581, 0.020401349076911393, 0.020851822623917861, 0.02174249977109249, 0.023036769611266814, 0.024499053899174329, 0.026718255195639286, 0.027294576310576558, 0.028084453091962818, 0.029073487637909581, 0.029494350002688716, 0.030255706852450954]\n"
     ]
    },
    {
     "data": {
      "image/png": "[encoded data removed]",
      "text/plain": [
       "<matplotlib.figure.Figure at 0x7f074e8cd4a8>"
      ]
     },
     "metadata": {},
     "output_type": "display_data"
    },
    {
     "name": "stdout",
     "output_type": "stream",
     "text": [
      "In the original dimension silhouette is 0.0439600169583\n",
      "Clustering silhouette over PCA [-0.23624407024625071, -0.21523710474392357, -0.18315982503087153, -0.14859237053420382, -0.1174162937472847, -0.095934918670641661, -0.078254696885158612, -0.067775997298390789, -0.052482360921126563, -0.046042205827344543, -0.035009943115803098, -0.029458012278270457, -0.024521490876526494, -0.019234238495167071, -0.015044827446019862, -0.010779649012717147, -0.0059046322018563432, -0.0019980219380593611, 0.0010355456038692085, 0.0029167862931912636, 0.004172634015401664, 0.0063918274576653172, 0.0082946956096369134, 0.0093520857789351555, 0.010932008569935054, 0.013071523063492232, 0.014951401830714443, 0.016140980816282569, 0.017554979518574178, 0.018457921380543581, 0.019753227894337581, 0.020401349076911393, 0.020851822623917861, 0.02174249977109249, 0.023036769611266814, 0.024499053899174329, 0.026718255195639286, 0.027294576310576558, 0.028084453091962818, 0.029073487637909581, 0.029494350002688716, 0.030255706852450954]\n"
     ]
    },
    {
     "data": {
      "image/png": "[encoded data removed]",
      "text/plain": [
       "<matplotlib.figure.Figure at 0x7f074e7ba550>"
      ]
     },
     "metadata": {},
     "output_type": "display_data"
    }
   ],
   "source": [
    "xdata = [0.0]*len(pca.T)\n",
    "ydata = [0.0]*len(pca.T)\n",
    "ydataRPCA = [0.0]*len(pca.T)\n",
    "ydataRPCA2 = [0.0]*len(pca.T)\n",
    "ydataRPCA3 = [0.0]*len(pca.T)\n",
    "ydataRPCA4 = [0.0]*len(pca.T)\n",
    "\n",
    "from sklearn.preprocessing import normalize\n",
    "from sklearn.metrics import silhouette_score\n",
    "\n",
    "pca_normalized = normalize(pca, axis=0, norm='l2')\n",
    "rpca_normalized = normalize(rpca, axis=0, norm='l2')\n",
    "rpca2_normalized = normalize(rpca2, axis=0, norm='l2')\n",
    "rpca3_normalized = normalize(rpca3, axis=0, norm='l2')\n",
    "rpca4_normalized = normalize(rpca4, axis=0, norm='l2')\n",
    "\n",
    "grouptagarray = [\"\"]*len(grouptag)\n",
    "for i in range(len(grouptag)):\n",
    "    grouptagarray[i] = grouptag[i]\n",
    "\n",
    "for metric in ['cityblock', 'cosine', 'euclidean']:\n",
    "    original_clustering = silhouette_score(normalizedImageList.T, grouptagarray, metric=metric)\n",
    "    print('In the original dimension silhouette is %s' % original_clustering)\n",
    "\n",
    "    for i in range(len(pca.T)):\n",
    "      xdata[i] = i\n",
    "      projected = normalizedImageList.T.dot(pca_normalized[:,:i+1])\n",
    "      ydata[i] = silhouette_score(projected, grouptagarray)\n",
    "    \n",
    "      # lambda = 0.01\n",
    "      projectedRPCA = normalizedImageList.T.dot(rpca_normalized[:,:i+1])\n",
    "      ydataRPCA[i] = silhouette_score(projectedRPCA, grouptagarray)\n",
    "    \n",
    "      # lambda = 0.005\n",
    "      projectedRPCA2 = normalizedImageList.T.dot(rpca2_normalized[:,:i+1])\n",
    "      ydataRPCA2[i] = silhouette_score(projectedRPCA2, grouptagarray)\n",
    "    \n",
    "      # lambda = 0.02\n",
    "      projectedRPCA3 = normalizedImageList.T.dot(rpca3_normalized[:,:i+1])\n",
    "      ydataRPCA3[i] = silhouette_score(projectedRPCA3, grouptagarray)\n",
    "    \n",
    "      # lambda = 0.001\n",
    "      projectedRPCA4 = normalizedImageList.T.dot(rpca4_normalized[:,:i+1])\n",
    "      ydataRPCA4[i] = silhouette_score(projectedRPCA4, grouptagarray)\n",
    "\n",
    "    print('Clustering silhouette over PCA %s' % ydata)\n",
    "\n",
    "    fig = plt.figure()\n",
    "    fig.suptitle(\"Silhouette (%s) in PCA\" % metric)\n",
    "    plt.plot(xdata, ydata, label=\"PCA\")\n",
    "    plt.plot(xdata, ydataRPCA, label=\"RPCA (lambda = 0.01)\")\n",
    "    plt.plot(xdata, ydataRPCA2, label=\"RPCA (lambda = 0.005)\")\n",
    "    plt.plot(xdata, ydataRPCA3, label=\"RPCA (lambda = 0.02)\")\n",
    "    plt.plot(xdata, ydataRPCA4, label=\"RPCA (lambda = 0.001)\")\n",
    "    plt.axhline(y=original_clustering, color='r', linestyle='-', label='Original Score (without dimensional reduction)')\n",
    "    plt.xlabel(\"Num eigenvector used\")\n",
    "    plt.ylabel(\"Silhouette (%s)\" % metric)\n",
    "    plt.autoscale(enable=True, axis='x', tight=True)\n",
    "    plt.legend()\n",
    "    plt.savefig(\"figures/rpcatrial2%s.png\" % metric, format = 'png')\n",
    "    plt.show()\n",
    "    plt.close()\n"
   ]
  },
  {
   "cell_type": "code",
   "execution_count": 15,
   "metadata": {
    "collapsed": false
   },
   "outputs": [],
   "source": [
    "imagesH = None\n",
    "rpcaImagesH = None\n",
    "rpcaImagesH2 = None\n",
    "rpcaImagesH3 = None\n",
    "\n",
    "count = 0\n",
    "for i in groups[\"24\"]:\n",
    "    if count > 5:\n",
    "        break\n",
    "    if imagesH is None:\n",
    "        imagesH = imageList.T[i].reshape(height,width)\n",
    "    else:\n",
    "        imagesH = numpy.hstack([imagesH, imageList.T[i].reshape(height,width)])\n",
    "    if rpcaImagesH is None:\n",
    "        rpcaImagesH = (A.T[i] + avgImg).reshape(height,width)\n",
    "    else:\n",
    "        rpcaImagesH = numpy.hstack([rpcaImagesH, (A.T[i] + avgImg).reshape(height,width)])\n",
    "    if rpcaImagesH2 is None:\n",
    "        rpcaImagesH2 = (A2.T[i] + avgImg).reshape(height,width)\n",
    "    else:\n",
    "        rpcaImagesH2 = numpy.hstack([rpcaImagesH2, (A2.T[i] + avgImg).reshape(height,width)])\n",
    "    if rpcaImagesH3 is None:\n",
    "        rpcaImagesH3 = (A4.T[i] + avgImg).reshape(height,width)\n",
    "    else:\n",
    "        rpcaImagesH3 = numpy.hstack([rpcaImagesH3, (A4.T[i] + avgImg).reshape(height,width)])\n",
    "    count += 1\n",
    "    \n",
    "def removeOutliers(array):\n",
    "    for i in range(len(array)):\n",
    "        for j in range(len(array[0])):\n",
    "            if array[i][j] > 255:\n",
    "                array[i][j] = 255\n",
    "            elif array[i][j] < 0:\n",
    "                array[i][j] = 0\n",
    "    return array\n",
    "    \n",
    "Image.fromarray(numpy.uint8(imagesH)).save(\"figures/person24trial2.gif\")\n",
    "Image.fromarray(numpy.uint8(removeOutliers(rpcaImagesH))).save(\"figures/person24Afterl=0dot01RPCAtrial2.gif\")\n",
    "Image.fromarray(numpy.uint8(removeOutliers(rpcaImagesH2))).save(\"figures/person24Afterl=0dot005RPCAtrial2.gif\")\n",
    "Image.fromarray(numpy.uint8(removeOutliers(rpcaImagesH3))).save(\"figures/person24Afterl=0dot001RPCAtrial2.gif\")"
   ]
  },
  {
   "cell_type": "code",
   "execution_count": null,
   "metadata": {
    "collapsed": true
   },
   "outputs": [],
   "source": []
  }
 ],
 "metadata": {
  "kernelspec": {
   "display_name": "Python 3",
   "language": "python",
   "name": "python3"
  },
  "language_info": {
   "codemirror_mode": {
    "name": "ipython",
    "version": 3
   },
   "file_extension": ".py",
   "mimetype": "text/x-python",
   "name": "python",
   "nbconvert_exporter": "python",
   "pygments_lexer": "ipython3",
   "version": "3.6.0"
  }
 },
 "nbformat": 4,
 "nbformat_minor": 0
}
