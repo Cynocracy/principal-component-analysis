{
 "cells": [
  {
   "cell_type": "code",
   "execution_count": 3,
   "metadata": {
    "collapsed": true
   },
   "outputs": [],
   "source": [
    "from PIL import Image\n",
    "import numpy\n",
    "import os\n",
    "import re\n",
    "from resizeimage import resizeimage"
   ]
  },
  {
   "cell_type": "code",
   "execution_count": 158,
   "metadata": {
    "collapsed": false
   },
   "outputs": [],
   "source": [
    "# resize images\n",
    "# resizeImages('../data/yalefaces/', 'subject01')\n",
    "def resizeImages(path, prefix):    \n",
    "    for root, dirs, files in os.walk(path):\n",
    "        for name in files:\n",
    "            if re.match(r'^'+prefix+'.*gif$', name, re.I):\n",
    "                img = Image.open(path + name)\n",
    "                resizedImg = resizeimage.resize_height(img, 50)\n",
    "                resizedImg.save('../data/yalefaces_resized/'+name)\n",
    "\n",
    "# images into array: http://stackoverflow.com/questions/13550376/pil-image-to-array-numpy-array-to-array-python\n",
    "def readImagesIntoMatrix(path, prefix):\n",
    "    images = None\n",
    "    for root, dirs, files in os.walk(path):\n",
    "        for name in files:\n",
    "            if re.match(r'^'+prefix+'.*gif$', name, re.I):\n",
    "                img = Image.open(path + name)\n",
    "                (width, height) = img.size\n",
    "                imgArr = numpy.asarray(img).reshape(height * width)/256\n",
    "                if images is not None:\n",
    "                    images = numpy.vstack([images, imgArr])\n",
    "                else:\n",
    "                    images = imgArr\n",
    "    return images"
   ]
  },
  {
   "cell_type": "code",
   "execution_count": 107,
   "metadata": {
    "collapsed": false,
    "scrolled": true
   },
   "outputs": [],
   "source": [
    "imageList = readImagesIntoMatrix('yalefaces_resized/', 'subject01')"
   ]
  },
  {
   "cell_type": "code",
   "execution_count": 108,
   "metadata": {
    "collapsed": false
   },
   "outputs": [],
   "source": [
    "(width, height) = 66, 50\n",
    "# average Image\n",
    "avgImg =  numpy.mean(imageList, axis=0)\n",
    "Image.fromarray(numpy.uint8(avgImg.reshape(50,66))).save('test/avgImg.gif')"
   ]
  },
  {
   "cell_type": "code",
   "execution_count": 157,
   "metadata": {
    "collapsed": false
   },
   "outputs": [],
   "source": [
    "# Get EigenVectors\n",
    "covMatrix = numpy.cov(imageList, rowvar=True)\n",
    "eigenVal, eigenVec = numpy.linalg.eig(covMatrix)\n",
    "# Make sure Eigenvectors are unit vectors\n",
    "numpy.testing.assert_array_almost_equal(1.0, numpy.linalg.norm(eigenVec[0]))"
   ]
  },
  {
   "cell_type": "code",
   "execution_count": 156,
   "metadata": {
    "collapsed": false
   },
   "outputs": [],
   "source": [
    "# Reduce dimension thru eigen vector and save the resulting image\n",
    "largestEigenVec = eigenVec[0]\n",
    "result = largestEigenVec.T.dot(imageList)\n",
    "Image.fromarray(numpy.uint8(result.reshape(50,66))).save('test/1stEigen.gif')"
   ]
  },
  {
   "cell_type": "code",
   "execution_count": 147,
   "metadata": {
    "collapsed": false
   },
   "outputs": [],
   "source": []
  }
 ],
 "metadata": {
  "kernelspec": {
   "display_name": "Python 2",
   "language": "python",
   "name": "python2"
  },
  "language_info": {
   "codemirror_mode": {
    "name": "ipython",
    "version": 2
   },
   "file_extension": ".py",
   "mimetype": "text/x-python",
   "name": "python",
   "nbconvert_exporter": "python",
   "pygments_lexer": "ipython2",
   "version": "2.7.13"
  }
 },
 "nbformat": 4,
 "nbformat_minor": 0
}
