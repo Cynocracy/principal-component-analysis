{
 "cells": [
  {
   "cell_type": "code",
   "execution_count": 1,
   "metadata": {
    "collapsed": false
   },
   "outputs": [],
   "source": [
    "%matplotlib inline\n",
    "from PIL import Image\n",
    "import numpy\n",
    "import os\n",
    "import re\n",
    "import random\n",
    "from resizeimage import resizeimage\n",
    "import matplotlib.pyplot as plt\n",
    "from scipy import sparse\n",
    "from sklearn.decomposition import PCA\n",
    "import copy\n",
    "import matplotlib.image as mpimg\n",
    "from sklearn.decomposition import RandomizedPCA"
   ]
  },
  {
   "cell_type": "code",
   "execution_count": 2,
   "metadata": {
    "collapsed": false
   },
   "outputs": [],
   "source": [
    "# resize images\n",
    "# resizeImages('../data/yalefaces/', 'subject01')\n",
    "def resizeImagesToDest(source, dest, prefix, height, noiseAlgo=None):    \n",
    "    for root, dirs, files in os.walk(source):\n",
    "        for name in files:\n",
    "            if re.match(r'^'+prefix+'.*gif$', name, re.I):\n",
    "                img = Image.open(os.path.join(source, name))\n",
    "                (origWidth, origHeight) = img.size\n",
    "                if (height == origHeight):\n",
    "                    resizedImg = img\n",
    "                else:\n",
    "                    resizedImg = resizeimage.resize_height(img, height)\n",
    "                    \n",
    "                (width, height) = resizedImg.size\n",
    "                if noiseAlgo:\n",
    "                    noisyImg = noiseAlgo(numpy.asarray(resizedImg))\n",
    "                    Image.fromarray(numpy.uint8(noisyImg.reshape(height,width))).save(dest+name)\n",
    "                else:\n",
    "                    resizedImg.save(dest+name)\n",
    "\n",
    "def resizeImages(source, prefix):\n",
    "    resizeImageToDest(source, 'yalefaces_resized/', prefix, 50)\n",
    "                \n",
    "# images into array: http://stackoverflow.com/questions/13550376/pil-image-to-array-numpy-array-to-array-python\n",
    "def readImagesIntoMatrix(path, prefix):\n",
    "    images = None\n",
    "    for root, dirs, files in os.walk(path):\n",
    "        for name in files:\n",
    "            if re.match(r'^'+prefix+'.*gif$', name, re.I):\n",
    "                img = Image.open(path + name)                \n",
    "                (width, height) = img.size\n",
    "                imgArr = numpy.asarray(img).reshape(height * width)\n",
    "                if images is not None:\n",
    "                    images = numpy.vstack([images, imgArr])\n",
    "                else:\n",
    "                    images = imgArr\n",
    "    return images\n",
    "\n",
    "def saveImages(path, images, width, height):\n",
    "    for i in range(0, len(images)):\n",
    "        Image.fromarray(numpy.uint8(images[i]).reshape(height, width)).save(path+str(i)+'.gif')\n",
    "        \n",
    "def addGaussianNoise(image):\n",
    "    noisyImage = copy.deepcopy(image)\n",
    "    mu = noisyImage.mean()\n",
    "    std = noisyImage.std()\n",
    "    noise = 0.2 * numpy.random.normal(mu, std, noisyImage.shape)\n",
    "    for i in range(len(image)):\n",
    "        for j in range(len(image[0])):\n",
    "            val = image[i][j]\n",
    "            if val + noise[i][j] >= 255:\n",
    "                noisyImage[i][j] = 255\n",
    "            elif val + noise[i][j] <= 0:\n",
    "                noisyImage[i][j] = 0\n",
    "            else:\n",
    "                noisyImage[i][j] = val + noise[i][j] \n",
    "    \n",
    "    return noisyImage  \n",
    "    \n",
    "def addSparseNoise(image):\n",
    "    noisyImage = copy.deepcopy(image)\n",
    "    for i in range(len(image)):\n",
    "        for j in range(len(image[0])):\n",
    "            rand = random.random()\n",
    "            if (rand <= 0.01):\n",
    "                noisyImage[i][j] = 0\n",
    "    \n",
    "    return noisyImage"
   ]
  },
  {
   "cell_type": "code",
   "execution_count": 22,
   "metadata": {
    "collapsed": false,
    "scrolled": true
   },
   "outputs": [],
   "source": [
    "#resizeImages('yalefaces/', 'subject.*')\n",
    "imageList = readImagesIntoMatrix('yalefaces_resized/', 'subject.*happy').T\n",
    "\n",
    "#Image.fromarray(numpy.uint8(imageList.T[0].reshape(50,66))).save(\"test/testsaveimage1.gif\")"
   ]
  },
  {
   "cell_type": "code",
   "execution_count": 23,
   "metadata": {
    "collapsed": false
   },
   "outputs": [],
   "source": [
    "(width, height) = 66, 50\n",
    "# average Image\n",
    "avgImg =  numpy.mean(imageList, axis=1)\n",
    "#Image.fromarray(numpy.uint8(avgImg.reshape(50,66))).save('test/avgImg.gif')"
   ]
  },
  {
   "cell_type": "code",
   "execution_count": 24,
   "metadata": {
    "collapsed": false
   },
   "outputs": [],
   "source": [
    "# Subtract mean from each column (which are rows of transpose, how numpy does it)\n",
    "imagesDiff = (imageList.T - avgImg).T\n",
    "\n",
    "# Get EigenVectors\n",
    "covMatrix = numpy.cov(imagesDiff, rowvar=True)\n",
    "eigenVal, eigenVec = numpy.linalg.eigh(covMatrix)\n",
    "\n",
    "# Sort eigenvectors\n",
    "# http://stackoverflow.com/questions/8092920/sort-eigenvalues-and-associated-eigenvectors-after-using-numpy-linalg-eig-in-pyt\n",
    "idx = eigenVal.argsort()[::-1]\n",
    "eigenVal = eigenVal[idx]\n",
    "eigenVec = eigenVec[:,idx]"
   ]
  },
  {
   "cell_type": "code",
   "execution_count": 25,
   "metadata": {
    "collapsed": false
   },
   "outputs": [],
   "source": [
    "# Testing the eigenvectors\n",
    "# Taken from http://sebastianraschka.com/Articles/2014_pca_step_by_step.html\n",
    "for i in range(len(eigenVal)):\n",
    "    eigv = eigenVec[:,i].reshape(1,3300).T\n",
    "    numpy.testing.assert_array_almost_equal(covMatrix.dot(eigv), eigenVal[i] * eigv,\n",
    "                                         decimal=6, err_msg='', verbose=True)\n",
    "\n",
    "# Also lets assert the eigenvectors are orthogonal\n",
    "for i in range(len(eigenVal)):\n",
    "    for j in range(len(eigenVal)):\n",
    "        if i < j:\n",
    "            break # Comment this out if you want to run this silly test\n",
    "            # Commented out because if you run this it takes FOREVER.\n",
    "            # numpy.testing.assert_almost_equal(0, eigenVec[i].T.dot(eigenVec[j]))"
   ]
  },
  {
   "cell_type": "code",
   "execution_count": 26,
   "metadata": {
    "collapsed": false
   },
   "outputs": [],
   "source": [
    "def normalize_face(vector):\n",
    "    minValue = numpy.amin(vector)\n",
    "    maxValue = numpy.amax(vector)\n",
    "    scale = (255./(maxValue-minValue))\n",
    "    return (vector - minValue)*scale\n",
    "\n",
    "for i in range (1, 100):\n",
    "    eigv = eigenVec[:,i].reshape(1,3300).T\n",
    "    eigenface = normalize_face(eigv)\n",
    "    #Image.fromarray(numpy.uint8(eigenface.reshape(50,66))).save('test/happy_eigenface%s.gif' % i)"
   ]
  },
  {
   "cell_type": "code",
   "execution_count": 39,
   "metadata": {
    "collapsed": false
   },
   "outputs": [],
   "source": [
    "def top_k_eigenface(image, eigenVectors, k):\n",
    "    start_vector = numpy.zeros((50*66))\n",
    "    for i in range(0, k-1):\n",
    "        eigv = eigenVec[:,i].reshape(3300)\n",
    "        weight = numpy.inner(image, eigv)\n",
    "        start_vector = start_vector + weight * eigv\n",
    "    return start_vector\n",
    "\n",
    "numComponents = 15\n",
    "projections = []\n",
    "for i in range(0, len(imagesDiff.T)):\n",
    "    projection = top_k_eigenface(imagesDiff.T[i].reshape(3300), eigv, numComponents)+avgImg\n",
    "    projections.append(projection)\n",
    "    #print ('Projection dimensions %s' % (projection.shape,))\n",
    "    #Image.fromarray(numpy.uint8(projection.reshape(50,66))).save('test/happy_13_projection_of_subject%s.gif' % i)\n",
    "    projection = top_k_eigenface(imagesDiff.T[i].reshape(3300), eigv, 3300)+avgImg\n",
    "    #Image.fromarray(numpy.uint8(projection.reshape(50,66))).save('test/happy_3300_projection_of_subject%s.gif' % i)"
   ]
  },
  {
   "cell_type": "code",
   "execution_count": null,
   "metadata": {
    "collapsed": true
   },
   "outputs": [],
   "source": []
  },
  {
   "cell_type": "code",
   "execution_count": null,
   "metadata": {
    "collapsed": true
   },
   "outputs": [],
   "source": []
  },
  {
   "cell_type": "code",
   "execution_count": 54,
   "metadata": {
    "collapsed": false
   },
   "outputs": [],
   "source": []
  },
  {
   "cell_type": "code",
   "execution_count": 3,
   "metadata": {
    "collapsed": false
   },
   "outputs": [],
   "source": [
    "## Metrics Builder\n",
    "class MetricsBuilder():\n",
    "\n",
    "    def __init__(self, imagePath, label, algo=PCA):\n",
    "        self.imageList = []\n",
    "        self.imagePath = imagePath\n",
    "        self.nComponents = 0\n",
    "        self.imgWidth = 0\n",
    "        self.imgHeight = 0\n",
    "        self.imgDepth = 0\n",
    "        self.label = label\n",
    "        self.pca = algo\n",
    "    \n",
    "    def readImagesIntoMatrix(self, path):\n",
    "        images = None\n",
    "        for root, dirs, files in os.walk(path):\n",
    "            for name in files:\n",
    "                if re.match(r'.*gif$', name, re.I):\n",
    "                    #img = Image.open(path + name)\n",
    "                    img = mpimg.imread(path+ name)\n",
    "                    (self.imgHeight, self.imgWidth, self.imgDepth) = img.shape\n",
    "                    imgArr = numpy.asarray(img).reshape(self.imgHeight * self.imgWidth * self.imgDepth)\n",
    "                    if images is not None:\n",
    "                        images = numpy.vstack([images, imgArr])\n",
    "                    else:\n",
    "                        images = imgArr\n",
    "        return images  \n",
    "        \n",
    "    def plotImages(self, images, label):\n",
    "        fig = plt.figure(figsize=(6,3)) \n",
    "        fig.subplots_adjust(left=0, right=1, bottom=0, top=1, hspace=0.05, wspace=0.05)\n",
    "        fig.suptitle(label + ' (' + self.label + ')', y=1.1, fontsize=16)\n",
    "\n",
    "        for i in range(len(images)):\n",
    "            ax = fig.add_subplot(3, 5, i+1, xticks=[], yticks=[])\n",
    "            ax.imshow(images[i].reshape(self.imgHeight, self.imgWidth, self.imgDepth), cmap=plt.cm.bone, interpolation='nearest')\n",
    "    \n",
    "    def plotExplainedVariance(self, ratios):\n",
    "        numComponents = self.nComponents\n",
    "        curSum = 0\n",
    "        cumData = []\n",
    "        for idx, val in enumerate(ratios):\n",
    "            curSum = curSum + val\n",
    "            cumData.append(curSum)\n",
    "\n",
    "        fig = plt.figure(figsize=(15,4))\n",
    "        ax = fig.add_subplot(121)\n",
    "        ax.plot(range(1, numComponents+1), cumData);\n",
    "        ax.set_title('Cummulative Variance Explained by ' + str(numComponents) + ' Principal Components')\n",
    "        ax.set_xlabel('Principal Components')\n",
    "        ax.set_ylabel('% Variance Explained')\n",
    "        ax.set_ylim([0., 1.0])\n",
    "        plt.xticks(range(1, numComponents+1))\n",
    "\n",
    "        # add line to indicate 90% variance line\n",
    "        plt.plot([1, numComponents], [0.9, 0.9], 'k:', lw=2)\n",
    "\n",
    "        plt.margins(x=0)\n",
    "\n",
    "        ax = fig.add_subplot(122)\n",
    "        ax.plot(range(1, numComponents+1), ratios);\n",
    "        ax.set_title('Variance Explained by each ' + str(numComponents) + ' Principal Components')\n",
    "        ax.set_xlabel('Principal Components')\n",
    "        ax.set_ylabel('% Variance Explained')\n",
    "        ax.set_ylim([0., 1.0])\n",
    "        plt.xticks(range(1, numComponents+1))\n",
    "        plt.margins(x=0)        \n",
    "    \n",
    "    def saveReconstructedImages(self, dest):\n",
    "        for idx, img in enumerate(self.inverseTransformedImageList):\n",
    "             Image.fromarray(numpy.uint8(img).reshape(self.imgHeight, self.imgWidth, self.imgDepth)).save(dest+'img_'+str(idx)+'.gif')\n",
    "    \n",
    "    def build(self):\n",
    "        self.imageList = self.readImagesIntoMatrix(self.imagePath)\n",
    "\n",
    "        pca = self.pca\n",
    "        self.reducedImageList = pca.fit_transform(self.imageList)\n",
    "        self.inverseTransformedImageList = pca.inverse_transform(self.reducedImageList)\n",
    "        self.nComponents = len(pca.components_)\n",
    "        self.plotImages(self.imageList, 'Original Images')\n",
    "        self.plotImages(self.inverseTransformedImageList, 'Rec Images')\n",
    "        self.plotExplainedVariance(pca.explained_variance_ratio_)"
   ]
  },
  {
   "cell_type": "code",
   "execution_count": 57,
   "metadata": {
    "collapsed": false
   },
   "outputs": [],
   "source": [
    "#resizeImagesToDest('yalefaces/', 'train/normal/', '^subject01.+', 243)\n",
    "#resizeImagesToDest('yalefaces/', 'train/oneoff/', 'subject01', 243)\n",
    "#resizeImagesToDest('yalefaces/', 'train/gaussian_noise/', 'subject01', 243, addGaussianNoise)\n",
    "#resizeImagesToDest('yalefaces/', 'train/sparse_noise/', 'subject01', 243, addSparseNoise)\n",
    "resizeImagesToDest('scene/', 'train/scene/', '.*', 133)"
   ]
  },
  {
   "cell_type": "code",
   "execution_count": 7,
   "metadata": {
    "collapsed": false
   },
   "outputs": [
    {
     "data": {
      "image/png": "[encoded data removed]",
      "text/plain": [
       "<matplotlib.figure.Figure at 0xa864f60>"
      ]
     },
     "metadata": {},
     "output_type": "display_data"
    },
    {
     "data": {
      "image/png": "[encoded data removed]",
      "text/plain": [
       "<matplotlib.figure.Figure at 0x113006d8>"
      ]
     },
     "metadata": {},
     "output_type": "display_data"
    },
    {
     "data": {
      "image/png": "[encoded data removed]",
      "text/plain": [
       "<matplotlib.figure.Figure at 0xc3a6fd0>"
      ]
     },
     "metadata": {},
     "output_type": "display_data"
    },
    {
     "data": {
      "image/png": "[encoded data removed]",
      "text/plain": [
       "<matplotlib.figure.Figure at 0xd043e48>"
      ]
     },
     "metadata": {},
     "output_type": "display_data"
    },
    {
     "data": {
      "image/png": "[encoded data removed]",
      "text/plain": [
       "<matplotlib.figure.Figure at 0xd043f28>"
      ]
     },
     "metadata": {},
     "output_type": "display_data"
    },
    {
     "data": {
      "image/png": "[encoded data removed]",
      "text/plain": [
       "<matplotlib.figure.Figure at 0xd043eb8>"
      ]
     },
     "metadata": {},
     "output_type": "display_data"
    }
   ],
   "source": [
    "# metrics = MetricsBuilder('train/normal/', 'Normal', algo=PCA(n_components=2))\n",
    "# metrics.build()\n",
    "\n",
    "# metrics = MetricsBuilder('train/oneoff/', 'One Off', algo=PCA(n_components=2))\n",
    "# metrics.build()\n",
    "\n",
    "# metrics = MetricsBuilder('train/gaussian_noise/', 'Gaussian Noise', algo=PCA(n_components=2))\n",
    "# metrics.build()\n",
    "\n",
    "# metrics = MetricsBuilder('train/sparse_noise/', 'Sparse Noise', algo=PCA(n_components=2))\n",
    "# metrics.build()\n",
    "\n",
    "# # reconstruct with 1 component and see how much background noise is removed\n",
    "metrics = MetricsBuilder('train/scene/', 'Scene', algo=PCA(n_components=1, svd_solver='full'))\n",
    "metrics.build()\n",
    "metrics.saveReconstructedImages('train/scene_rec/')\n",
    "\n",
    "metrics = MetricsBuilder('train/scene/', 'Scene', algo=PCA(n_components=1, svd_solver='randomized'))\n",
    "metrics.build()\n",
    "metrics.saveReconstructedImages('train/scene_rec_rand/')"
   ]
  },
  {
   "cell_type": "code",
   "execution_count": null,
   "metadata": {
    "collapsed": true
   },
   "outputs": [],
   "source": []
  }
 ],
 "metadata": {
  "kernelspec": {
   "display_name": "Python 2",
   "language": "python",
   "name": "python2"
  },
  "language_info": {
   "codemirror_mode": {
    "name": "ipython",
    "version": 2
   },
   "file_extension": ".py",
   "mimetype": "text/x-python",
   "name": "python",
   "nbconvert_exporter": "python",
   "pygments_lexer": "ipython2",
   "version": "2.7.13"
  }
 },
 "nbformat": 4,
 "nbformat_minor": 0
}
