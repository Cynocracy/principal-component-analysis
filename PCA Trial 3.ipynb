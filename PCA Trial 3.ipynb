{
 "cells": [
  {
   "cell_type": "code",
   "execution_count": 1,
   "metadata": {
    "collapsed": false
   },
   "outputs": [],
   "source": [
    "%matplotlib inline\n",
    "from PIL import Image\n",
    "import numpy\n",
    "import os\n",
    "import re\n",
    "import random\n",
    "from resizeimage import resizeimage\n",
    "import matplotlib.pyplot as plt\n",
    "from scipy import sparse\n",
    "from sklearn.decomposition import PCA\n",
    "import copy\n",
    "import matplotlib.image as mpimg\n",
    "from sklearn.decomposition import RandomizedPCA"
   ]
  },
  {
   "cell_type": "code",
   "execution_count": 2,
   "metadata": {
    "collapsed": false
   },
   "outputs": [],
   "source": [
    "import collections\n",
    "# resize images\n",
    "def resizeImagesToDest(source, dest, prefix, height, noiseAlgo=None):    \n",
    "    for root, dirs, files in os.walk(source):\n",
    "        for name in files:\n",
    "            if re.match(r'^'+prefix+'.*gif$', name, re.I):\n",
    "                img = Image.open(os.path.join(source, name))\n",
    "                (origWidth, origHeight) = img.size\n",
    "                if (height == origHeight):\n",
    "                    resizedImg = img\n",
    "                else:\n",
    "                    resizedImg = resizeimage.resize_height(img, height)\n",
    "                \n",
    "                (width, height) = resizedImg.size\n",
    "                if noiseAlgo:\n",
    "                    noisyImg = noiseAlgo(numpy.asarray(resizedImg))\n",
    "                    Image.fromarray(numpy.uint8(noisyImg.reshape(height,width))).save(dest+name)\n",
    "                else:\n",
    "                    resizedImg.save(dest+name)\n",
    "\n",
    "def resizeImages(source, prefix):\n",
    "    resizeImagesToDest(source, 'yalefaces_resized/', prefix, 50)\n",
    "                \n",
    "# images into array: http://stackoverflow.com/questions/13550376/pil-image-to-array-numpy-array-to-array-python\n",
    "def readImagesIntoMatrix(path, prefix):\n",
    "    images = None\n",
    "    groups = collections.defaultdict(set)\n",
    "    grouptag = {}\n",
    "    i = 0\n",
    "    for root, dirs, files in os.walk(path):\n",
    "        for name in files:\n",
    "            if re.match(r'^'+prefix+'.*gif$', name, re.I):\n",
    "                img = Image.open(path + name)                \n",
    "                (width, height) = img.size\n",
    "                imgArr = numpy.asarray(img).reshape(height * width)\n",
    "                if images is not None:\n",
    "                    images = numpy.vstack([images, imgArr])\n",
    "                else:\n",
    "                    images = imgArr\n",
    "                group = re.match(r'.*yaleB([0-9]+)_.*', name, re.I).group(1)\n",
    "                groups[group].add(i)\n",
    "                grouptag[i] = group\n",
    "                i += 1\n",
    "    return images, groups, grouptag\n",
    "\n",
    "def saveImages(path, images, width, height):\n",
    "    for i in range(0, len(images)):\n",
    "        Image.fromarray(numpy.uint8(images[i]).reshape(height, width)).save(path+str(i)+'.gif')\n",
    "        \n",
    "def addGaussianNoise(image):\n",
    "    noisyImage = copy.deepcopy(image)\n",
    "    mu = noisyImage.mean()\n",
    "    std = noisyImage.std()\n",
    "    noise = 0.2 * numpy.random.normal(mu, std, noisyImage.shape)\n",
    "    for i in range(len(image)):\n",
    "        for j in range(len(image[0])):\n",
    "            val = image[i][j]\n",
    "            if val + noise[i][j] >= 255:\n",
    "                noisyImage[i][j] = 255\n",
    "            elif val + noise[i][j] <= 0:\n",
    "                noisyImage[i][j] = 0\n",
    "            else:\n",
    "                noisyImage[i][j] = val + noise[i][j] \n",
    "    \n",
    "    return noisyImage  \n",
    "    \n",
    "def addSparseNoise(image):\n",
    "    noisyImage = copy.deepcopy(image)\n",
    "    for i in range(len(image)):\n",
    "        for j in range(len(image[0])):\n",
    "            rand = random.random()\n",
    "            if (rand <= 0.01):\n",
    "                noisyImage[i][j] = 0\n",
    "    \n",
    "    return noisyImage"
   ]
  },
  {
   "cell_type": "code",
   "execution_count": 3,
   "metadata": {
    "collapsed": false,
    "scrolled": true
   },
   "outputs": [
    {
     "name": "stdout",
     "output_type": "stream",
     "text": [
      "Images [[ 72  55  53 ...,  90 127  39]\n",
      " [ 73  59  55 ...,  86 130  38]\n",
      " [ 75  65  55 ...,  86 132  41]\n",
      " ..., \n",
      " [ 34  60  88 ...,  88  15  46]\n",
      " [ 33  55  57 ...,  85  15  39]\n",
      " [ 31  48  36 ...,  82  17  32]]\n"
     ]
    }
   ],
   "source": [
    "imageList, groups, grouptag = readImagesIntoMatrix('bestyalefaces/', '.*')\n",
    "imageList = imageList.T\n",
    "\n",
    "print(\"Images %s\" % imageList)\n",
    "\n",
    "(width, height) = 168, 192\n",
    "Image.fromarray(numpy.uint8(imageList.T[0].reshape(height,width))).save(\"secondyaletest/testsaveimage1.gif\")\n",
    "Image.fromarray(numpy.uint8(imageList.T[100].reshape(height,width))).save(\"secondyaletest/testsaveimage100.gif\")"
   ]
  },
  {
   "cell_type": "code",
   "execution_count": 4,
   "metadata": {
    "collapsed": false
   },
   "outputs": [
    {
     "name": "stdout",
     "output_type": "stream",
     "text": [
      "Average image [ 58.31160896  60.38492872  62.75763747 ...,  46.24236253  44.76985743\n",
      "  43.42158859]\n"
     ]
    }
   ],
   "source": [
    "# average Image\n",
    "#print('Num images %s' % (imageList.shape,))\n",
    "avgImg = imageList.mean(axis=1)\n",
    "print('Average image %s' % (avgImg))\n",
    "normalizedImageList = imageList - avgImg.reshape(width*height,1)*numpy.ones((1,len(imageList.T)))\n",
    "Image.fromarray(numpy.uint8(avgImg.reshape(height,width))).save('secondyaletest/avgImg.gif')"
   ]
  },
  {
   "cell_type": "code",
   "execution_count": 5,
   "metadata": {
    "collapsed": false
   },
   "outputs": [
    {
     "name": "stdout",
     "output_type": "stream",
     "text": [
      "With PCA there were 41 eigenfaces that captures 90pct of the variance\n"
     ]
    }
   ],
   "source": [
    "def normalize_face(vector):\n",
    "    minValue = numpy.amin(vector)\n",
    "    maxValue = numpy.amax(vector)\n",
    "    scale = (255./(maxValue-minValue))\n",
    "    return (vector - minValue)*scale\n",
    "\n",
    "# Fit with PCA for 90% of variance\n",
    "pca = PCA(0.9).fit_transform(normalizedImageList)\n",
    "print('With PCA there were %s eigenfaces that captures 90pct of the variance' % len(pca.T))\n",
    "\n",
    "for i in range(len(pca.T)):\n",
    "    eigv = pca[:,i].reshape(1,width * height).T\n",
    "    eigenface = normalize_face(eigv)\n",
    "    Image.fromarray(numpy.uint8(eigenface.reshape(height,width))).save('secondyaletest/trial3-eigenface%s.gif' % i)"
   ]
  },
  {
   "cell_type": "code",
   "execution_count": 6,
   "metadata": {
    "collapsed": false
   },
   "outputs": [],
   "source": [
    "from numpy.linalg import norm, svd\n",
    "from scipy.io import loadmat, savemat\n",
    "\n",
    "def inexact_augmented_lagrange_multiplier(X, lmbda=.01, tol=1e-3,\n",
    "                                          maxiter=100, verbose=True):\n",
    "    \"\"\"\n",
    "    Inexact Augmented Lagrange Multiplier\n",
    "    \"\"\"\n",
    "    Y = X\n",
    "    norm_two = norm(Y.ravel(), 2)\n",
    "    norm_inf = norm(Y.ravel(), numpy.inf) / lmbda\n",
    "    dual_norm = numpy.max([norm_two, norm_inf])\n",
    "    Y = Y / dual_norm\n",
    "    A = numpy.zeros(Y.shape)\n",
    "    E = numpy.zeros(Y.shape)\n",
    "    dnorm = norm(X, 'fro')\n",
    "    mu = 1.25 / norm_two\n",
    "    rho = 1.5\n",
    "    sv = 10.\n",
    "    n = Y.shape[0]\n",
    "    itr = 0\n",
    "    while True:\n",
    "        if verbose:\n",
    "            print('Iterations %s' % itr)\n",
    "        Eraw = X - A + (1 / mu) * Y\n",
    "        Eupdate = numpy.maximum(Eraw - lmbda / mu, 0) + numpy.minimum(Eraw + lmbda / mu, 0)\n",
    "        U, S, V = svd(X - Eupdate + (1 / mu) * Y, full_matrices=False)\n",
    "        svp = (S > 1 / mu).shape[0]\n",
    "        if svp < sv:\n",
    "            sv = numpy.min([svp + 1, n])\n",
    "        else:\n",
    "            sv = numpy.min([svp + round(.05 * n), n])\n",
    "        Aupdate = numpy.dot(numpy.dot(U[:, :svp], numpy.diag(S[:svp] - 1 / mu)), V[:svp, :])\n",
    "        A = Aupdate\n",
    "        E = Eupdate\n",
    "        Z = X - A - E\n",
    "        Y = Y + mu * Z\n",
    "        mu = numpy.min([mu * rho, mu * 1e7])\n",
    "        itr += 1\n",
    "        if ((norm(Z, 'fro') / dnorm) < tol) or (itr >= maxiter):\n",
    "            break\n",
    "    if verbose:\n",
    "        print(\"Finished at iteration %d\" % (itr))  \n",
    "    return A,E"
   ]
  },
  {
   "cell_type": "code",
   "execution_count": 7,
   "metadata": {
    "collapsed": false
   },
   "outputs": [
    {
     "name": "stdout",
     "output_type": "stream",
     "text": [
      "Iterations 0\n",
      "Iterations 1\n",
      "Iterations 2\n",
      "Iterations 3\n",
      "Iterations 4\n",
      "Iterations 5\n",
      "Iterations 6\n",
      "Iterations 7\n",
      "Iterations 8\n",
      "Iterations 9\n",
      "Iterations 10\n",
      "Iterations 11\n",
      "Iterations 12\n",
      "Iterations 13\n",
      "Iterations 14\n",
      "Iterations 15\n",
      "Iterations 16\n",
      "Iterations 17\n",
      "Finished at iteration 18\n"
     ]
    }
   ],
   "source": [
    "A, E = inexact_augmented_lagrange_multiplier(normalizedImageList, lmbda=0.01)"
   ]
  },
  {
   "cell_type": "code",
   "execution_count": 8,
   "metadata": {
    "collapsed": false
   },
   "outputs": [
    {
     "name": "stdout",
     "output_type": "stream",
     "text": [
      "Iterations 0\n",
      "Iterations 1\n",
      "Iterations 2\n",
      "Iterations 3\n",
      "Iterations 4\n",
      "Iterations 5\n",
      "Iterations 6\n",
      "Iterations 7\n",
      "Iterations 8\n",
      "Iterations 9\n",
      "Iterations 10\n",
      "Iterations 11\n",
      "Iterations 12\n",
      "Iterations 13\n",
      "Iterations 14\n",
      "Iterations 15\n",
      "Iterations 16\n",
      "Iterations 17\n",
      "Iterations 18\n",
      "Iterations 19\n",
      "Iterations 20\n",
      "Iterations 21\n",
      "Iterations 22\n",
      "Iterations 23\n",
      "Iterations 24\n",
      "Iterations 25\n",
      "Finished at iteration 26\n"
     ]
    }
   ],
   "source": [
    "A2, E2 = inexact_augmented_lagrange_multiplier(normalizedImageList, lmbda=0.005)"
   ]
  },
  {
   "cell_type": "code",
   "execution_count": 9,
   "metadata": {
    "collapsed": false
   },
   "outputs": [
    {
     "name": "stdout",
     "output_type": "stream",
     "text": [
      "Iterations 0\n",
      "Iterations 1\n",
      "Iterations 2\n",
      "Iterations 3\n",
      "Iterations 4\n",
      "Iterations 5\n",
      "Iterations 6\n",
      "Iterations 7\n",
      "Iterations 8\n",
      "Iterations 9\n",
      "Iterations 10\n",
      "Iterations 11\n",
      "Iterations 12\n",
      "Iterations 13\n",
      "Iterations 14\n",
      "Iterations 15\n",
      "Iterations 16\n",
      "Finished at iteration 17\n"
     ]
    }
   ],
   "source": [
    "A3, E3 = inexact_augmented_lagrange_multiplier(normalizedImageList, lmbda=0.02)"
   ]
  },
  {
   "cell_type": "code",
   "execution_count": 10,
   "metadata": {
    "collapsed": false
   },
   "outputs": [
    {
     "name": "stdout",
     "output_type": "stream",
     "text": [
      "Iterations 0\n",
      "Iterations 1\n",
      "Iterations 2\n",
      "Iterations 3\n",
      "Iterations 4\n",
      "Iterations 5\n",
      "Iterations 6\n",
      "Iterations 7\n",
      "Iterations 8\n",
      "Iterations 9\n",
      "Iterations 10\n",
      "Iterations 11\n",
      "Iterations 12\n",
      "Iterations 13\n",
      "Iterations 14\n",
      "Iterations 15\n",
      "Iterations 16\n",
      "Iterations 17\n",
      "Iterations 18\n",
      "Iterations 19\n",
      "Iterations 20\n",
      "Iterations 21\n",
      "Iterations 22\n",
      "Iterations 23\n",
      "Iterations 24\n",
      "Iterations 25\n",
      "Finished at iteration 26\n"
     ]
    }
   ],
   "source": [
    "A4, E4 = inexact_augmented_lagrange_multiplier(normalizedImageList, lmbda=0.001)"
   ]
  },
  {
   "cell_type": "code",
   "execution_count": 11,
   "metadata": {
    "collapsed": false
   },
   "outputs": [
    {
     "name": "stdout",
     "output_type": "stream",
     "text": [
      "Error [[ 0.          0.          0.         ...,  0.          5.63172223  0.        ]\n",
      " [ 0.          0.          0.         ...,  0.          4.02074679  0.        ]\n",
      " [ 0.          0.          0.         ...,  0.          4.02461513  0.        ]\n",
      " ..., \n",
      " [ 1.21960079  0.          0.         ...,  0.          0.41168425  0.        ]\n",
      " [ 0.71012998  0.          0.         ...,  0.          1.57855862  0.        ]\n",
      " [ 1.85933242  0.         -7.33847686 ...,  0.          1.87172113  0.        ]]\n",
      "Error [[  6.66120928e+00  -1.24380137e+00   4.52611558e+00 ...,   1.02732823e+01\n",
      "    2.34603114e+01  -9.81082549e-01]\n",
      " [  4.18583568e+00  -1.06432019e+00   4.21760569e+00 ...,   4.42893980e+00\n",
      "    2.33528981e+01  -1.50027673e+00]\n",
      " [  3.86489025e+00  -1.74685687e-02   3.46913129e+00 ...,   5.71292100e+00\n",
      "    2.03154553e+01  -3.72414433e-02]\n",
      " ..., \n",
      " [  4.20623982e+00   3.11164048e+00  -2.60837552e+00 ...,   3.62843725e+00\n",
      "    6.78597594e+00   6.07793287e+00]\n",
      " [  3.90610198e+00   4.70724647e+00  -2.62140888e+01 ...,   2.13073066e+00\n",
      "    6.96314169e+00   8.50718716e-01]\n",
      " [  1.99610250e+00   4.05881228e+00  -4.16544753e+01 ...,   2.93726338e+00\n",
      "    1.15372845e+01  -1.44304749e+00]]\n",
      "Relative error 0.01 0.119376709818\n",
      "Relative error 0.005 0.319432659132\n",
      "Relative error 0.2 0.064299243237\n",
      "Relative error 0.001 0.96108172229\n"
     ]
    }
   ],
   "source": [
    "Image.fromarray(numpy.uint8((A.T[0] + avgImg).reshape(height,width))).save(\"secondyaletest/testsaveimage1afterrpca.gif\")\n",
    "\n",
    "print('Error %s' % E)\n",
    "print('Error %s' % E2)\n",
    "\n",
    "print('Relative error %s %s' % (0.01, numpy.linalg.norm(E, 'fro')/numpy.linalg.norm(normalizedImageList, 'fro')))\n",
    "print('Relative error %s %s' % (0.005, numpy.linalg.norm(E2, 'fro')/numpy.linalg.norm(normalizedImageList, 'fro')))\n",
    "print('Relative error %s %s' % (0.2, numpy.linalg.norm(E3, 'fro')/numpy.linalg.norm(normalizedImageList, 'fro')))\n",
    "print('Relative error %s %s' % (0.001, numpy.linalg.norm(E4, 'fro')/numpy.linalg.norm(normalizedImageList, 'fro')))"
   ]
  },
  {
   "cell_type": "code",
   "execution_count": 12,
   "metadata": {
    "collapsed": false
   },
   "outputs": [
    {
     "name": "stdout",
     "output_type": "stream",
     "text": [
      "After RPCA (lam=0.01) there were 32 eigenfaces that captures 90pct of the variance\n",
      "After RPCA (lam=0.005) there were 16 eigenfaces that captures 90pct of the variance\n",
      "After RPCA (lam=0.001) there were 2 eigenfaces that captures 90pct of the variance\n"
     ]
    }
   ],
   "source": [
    "\n",
    "# Fit with PCA for 90% of variance\n",
    "rpca = PCA(0.9).fit_transform(A)\n",
    "rpca2 = PCA(0.9).fit_transform(A2)\n",
    "rpca4 = PCA(0.9).fit_transform(A4)\n",
    "\n",
    "print('After RPCA (lam=%s) there were %s eigenfaces that captures 90pct of the variance' % (0.01, len(rpca.T)))\n",
    "print('After RPCA (lam=%s) there were %s eigenfaces that captures 90pct of the variance' % (0.005, len(rpca2.T)))\n",
    "print('After RPCA (lam=%s) there were %s eigenfaces that captures 90pct of the variance' % (0.001, len(rpca4.T)))\n",
    "\n",
    "#Let's make images for the same number of eigenfaces we used originally\n",
    "rpca = PCA(len(pca.T)).fit_transform(A)\n",
    "rpca2 = PCA(len(pca.T)).fit_transform(A2)\n",
    "rpca3 = PCA(len(pca.T)).fit_transform(A3)\n",
    "rpca4 = PCA(len(pca.T)).fit_transform(A4)"
   ]
  },
  {
   "cell_type": "code",
   "execution_count": 13,
   "metadata": {
    "collapsed": false
   },
   "outputs": [
    {
     "name": "stdout",
     "output_type": "stream",
     "text": [
      "In the original dimension silhouette is 0.166405170822\n",
      "Clustering silhouette over PCA [-0.30996192566169595, -0.27541908007819305, -0.2084603498609488, -0.13584306071446975, -0.085266977039701042, -0.039499189643622444, -0.013408245952882742, 0.015754100147169981, 0.043123757817553343, 0.059118872368010146, 0.077258317071495081, 0.092138058883191043, 0.10127814816675916, 0.1128741328365202, 0.1244387102488418, 0.13134587769217609, 0.13712406724993192, 0.14399989660019855, 0.15026835100307967, 0.15696182769344608, 0.16214279501784537, 0.16680572822778289, 0.17128856084005481, 0.17427443591768388, 0.17686739474600727, 0.17887094836197068, 0.18142416375176418, 0.18456405512049959, 0.18745787316164625, 0.19087561583285517, 0.19482045674580423, 0.19729524746378113, 0.19880802838649891, 0.20063688391231382, 0.20314639213122357, 0.20540721688480643, 0.20643860010593409, 0.20731062738578965, 0.20898001826908075, 0.21009583812399713, 0.21290051950591735]\n"
     ]
    },
    {
     "data": {
      "image/png": "[encoded data removed]",
      "text/plain": [
       "<matplotlib.figure.Figure at 0x7f1188b47278>"
      ]
     },
     "metadata": {},
     "output_type": "display_data"
    },
    {
     "name": "stdout",
     "output_type": "stream",
     "text": [
      "In the original dimension silhouette is 0.303279512156\n",
      "Clustering silhouette over PCA [-0.30996192566169595, -0.27541908007819305, -0.2084603498609488, -0.13584306071446975, -0.085266977039701042, -0.039499189643622444, -0.013408245952882742, 0.015754100147169981, 0.043123757817553343, 0.059118872368010146, 0.077258317071495081, 0.092138058883191043, 0.10127814816675916, 0.1128741328365202, 0.1244387102488418, 0.13134587769217609, 0.13712406724993192, 0.14399989660019855, 0.15026835100307967, 0.15696182769344608, 0.16214279501784537, 0.16680572822778289, 0.17128856084005481, 0.17427443591768388, 0.17686739474600727, 0.17887094836197068, 0.18142416375176418, 0.18456405512049959, 0.18745787316164625, 0.19087561583285517, 0.19482045674580423, 0.19729524746378113, 0.19880802838649891, 0.20063688391231382, 0.20314639213122357, 0.20540721688480643, 0.20643860010593409, 0.20731062738578965, 0.20898001826908075, 0.21009583812399713, 0.21290051950591735]\n"
     ]
    },
    {
     "data": {
      "image/png": "[encoded data removed]",
      "text/plain": [
       "<matplotlib.figure.Figure at 0x7f1188a75f28>"
      ]
     },
     "metadata": {},
     "output_type": "display_data"
    },
    {
     "name": "stdout",
     "output_type": "stream",
     "text": [
      "In the original dimension silhouette is 0.190953554789\n",
      "Clustering silhouette over PCA [-0.30996192566169595, -0.27541908007819305, -0.2084603498609488, -0.13584306071446975, -0.085266977039701042, -0.039499189643622444, -0.013408245952882742, 0.015754100147169981, 0.043123757817553343, 0.059118872368010146, 0.077258317071495081, 0.092138058883191043, 0.10127814816675916, 0.1128741328365202, 0.1244387102488418, 0.13134587769217609, 0.13712406724993192, 0.14399989660019855, 0.15026835100307967, 0.15696182769344608, 0.16214279501784537, 0.16680572822778289, 0.17128856084005481, 0.17427443591768388, 0.17686739474600727, 0.17887094836197068, 0.18142416375176418, 0.18456405512049959, 0.18745787316164625, 0.19087561583285517, 0.19482045674580423, 0.19729524746378113, 0.19880802838649891, 0.20063688391231382, 0.20314639213122357, 0.20540721688480643, 0.20643860010593409, 0.20731062738578965, 0.20898001826908075, 0.21009583812399713, 0.21290051950591735]\n"
     ]
    },
    {
     "data": {
      "image/png": "[encoded data removed]",
      "text/plain": [
       "<matplotlib.figure.Figure at 0x7f1188a99d30>"
      ]
     },
     "metadata": {},
     "output_type": "display_data"
    }
   ],
   "source": [
    "xdata = [0.0]*len(pca.T)\n",
    "ydata = [0.0]*len(pca.T)\n",
    "ydataRPCA = [0.0]*len(pca.T)\n",
    "ydataRPCA2 = [0.0]*len(pca.T)\n",
    "ydataRPCA3 = [0.0]*len(pca.T)\n",
    "ydataRPCA4 = [0.0]*len(pca.T)\n",
    "\n",
    "from sklearn.preprocessing import normalize\n",
    "from sklearn.metrics import silhouette_score\n",
    "\n",
    "pca_normalized = normalize(pca, axis=0, norm='l2')\n",
    "rpca_normalized = normalize(rpca, axis=0, norm='l2')\n",
    "rpca2_normalized = normalize(rpca2, axis=0, norm='l2')\n",
    "rpca3_normalized = normalize(rpca3, axis=0, norm='l2')\n",
    "rpca4_normalized = normalize(rpca4, axis=0, norm='l2')\n",
    "\n",
    "grouptagarray = [\"\"]*len(grouptag)\n",
    "for i in range(len(grouptag)):\n",
    "    grouptagarray[i] = grouptag[i]\n",
    "\n",
    "for metric in ['cityblock', 'cosine', 'euclidean']:\n",
    "    original_clustering = silhouette_score(normalizedImageList.T, grouptagarray, metric=metric)\n",
    "    print('In the original dimension silhouette is %s' % original_clustering)\n",
    "\n",
    "    for i in range(len(pca.T)):\n",
    "      xdata[i] = i\n",
    "      projected = normalizedImageList.T.dot(pca_normalized[:,:i+1])\n",
    "      ydata[i] = silhouette_score(projected, grouptagarray)\n",
    "    \n",
    "      # lambda = 0.01\n",
    "      projectedRPCA = normalizedImageList.T.dot(rpca_normalized[:,:i+1])\n",
    "      ydataRPCA[i] = silhouette_score(projectedRPCA, grouptagarray)\n",
    "    \n",
    "      # lambda = 0.005\n",
    "      projectedRPCA2 = normalizedImageList.T.dot(rpca2_normalized[:,:i+1])\n",
    "      ydataRPCA2[i] = silhouette_score(projectedRPCA2, grouptagarray)\n",
    "    \n",
    "      # lambda = 0.02\n",
    "      projectedRPCA3 = normalizedImageList.T.dot(rpca3_normalized[:,:i+1])\n",
    "      ydataRPCA3[i] = silhouette_score(projectedRPCA3, grouptagarray)\n",
    "    \n",
    "      # lambda = 0.001\n",
    "      projectedRPCA4 = normalizedImageList.T.dot(rpca4_normalized[:,:i+1])\n",
    "      ydataRPCA4[i] = silhouette_score(projectedRPCA4, grouptagarray)\n",
    "\n",
    "    print('Clustering silhouette over PCA %s' % ydata)\n",
    "\n",
    "    fig = plt.figure()\n",
    "    fig.suptitle(\"Silhouette (%s) in PCA\" % metric)\n",
    "    plt.plot(xdata, ydata, label=\"PCA\")\n",
    "    plt.plot(xdata, ydataRPCA, label=\"RPCA (lambda = 0.01)\")\n",
    "    plt.plot(xdata, ydataRPCA2, label=\"RPCA (lambda = 0.005)\")\n",
    "    plt.plot(xdata, ydataRPCA3, label=\"RPCA (lambda = 0.02)\")\n",
    "    plt.plot(xdata, ydataRPCA4, label=\"RPCA (lambda = 0.001)\")\n",
    "    plt.axhline(y=original_clustering, color='r', linestyle='-', label='Original Score (without dimensional reduction)')\n",
    "    plt.xlabel(\"Num eigenvector used\")\n",
    "    plt.ylabel(\"Silhouette (%s)\" % metric)\n",
    "    plt.autoscale(enable=True, axis='x', tight=True)\n",
    "    plt.legend()\n",
    "    plt.savefig(\"figures/rpcatrial3%s.png\" % metric, format = 'png')\n",
    "    plt.show()\n",
    "    plt.close()\n"
   ]
  },
  {
   "cell_type": "code",
   "execution_count": 15,
   "metadata": {
    "collapsed": false
   },
   "outputs": [],
   "source": [
    "imagesH = None\n",
    "rpcaImagesH = None\n",
    "rpcaImagesH2 = None\n",
    "rpcaImagesH3 = None\n",
    "\n",
    "count = 0\n",
    "for i in groups[\"24\"]:\n",
    "    if count > 5:\n",
    "        break\n",
    "    if imagesH is None:\n",
    "        imagesH = imageList.T[i].reshape(height,width)\n",
    "    else:\n",
    "        imagesH = numpy.hstack([imagesH, imageList.T[i].reshape(height,width)])\n",
    "    if rpcaImagesH is None:\n",
    "        rpcaImagesH = (A.T[i] + avgImg).reshape(height,width)\n",
    "    else:\n",
    "        rpcaImagesH = numpy.hstack([rpcaImagesH, (A.T[i] + avgImg).reshape(height,width)])\n",
    "    if rpcaImagesH2 is None:\n",
    "        rpcaImagesH2 = (A2.T[i] + avgImg).reshape(height,width)\n",
    "    else:\n",
    "        rpcaImagesH2 = numpy.hstack([rpcaImagesH2, (A2.T[i] + avgImg).reshape(height,width)])\n",
    "    if rpcaImagesH3 is None:\n",
    "        rpcaImagesH3 = (A4.T[i] + avgImg).reshape(height,width)\n",
    "    else:\n",
    "        rpcaImagesH3 = numpy.hstack([rpcaImagesH3, (A4.T[i] + avgImg).reshape(height,width)])\n",
    "    count += 1\n",
    "    \n",
    "def removeOutliers(array):\n",
    "    for i in range(len(array)):\n",
    "        for j in range(len(array[0])):\n",
    "            if array[i][j] > 255:\n",
    "                array[i][j] = 255\n",
    "            elif array[i][j] < 0:\n",
    "                array[i][j] = 0\n",
    "    return array\n",
    "    \n",
    "Image.fromarray(numpy.uint8(imagesH)).save(\"figures/person24trial3.gif\")\n",
    "Image.fromarray(numpy.uint8(removeOutliers(rpcaImagesH))).save(\"figures/person24Afterl=0dot01RPCAtrial3.gif\")\n",
    "Image.fromarray(numpy.uint8(removeOutliers(rpcaImagesH2))).save(\"figures/person24Afterl=0dot005RPCAtrial3.gif\")\n",
    "Image.fromarray(numpy.uint8(removeOutliers(rpcaImagesH3))).save(\"figures/person24Afterl=0dot001RPCAtrial3.gif\")"
   ]
  },
  {
   "cell_type": "code",
   "execution_count": null,
   "metadata": {
    "collapsed": true
   },
   "outputs": [],
   "source": []
  }
 ],
 "metadata": {
  "kernelspec": {
   "display_name": "Python 3",
   "language": "python",
   "name": "python3"
  },
  "language_info": {
   "codemirror_mode": {
    "name": "ipython",
    "version": 3
   },
   "file_extension": ".py",
   "mimetype": "text/x-python",
   "name": "python",
   "nbconvert_exporter": "python",
   "pygments_lexer": "ipython3",
   "version": "3.6.0"
  }
 },
 "nbformat": 4,
 "nbformat_minor": 0
}
